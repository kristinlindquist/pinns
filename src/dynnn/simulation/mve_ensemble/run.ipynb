{
 "cells": [
  {
   "cell_type": "code",
   "execution_count": 1,
   "metadata": {},
   "outputs": [
    {
     "name": "stderr",
     "output_type": "stream",
     "text": [
      "/Users/kristinlindquist/.pyenv/versions/3.12.3/lib/python3.12/site-packages/pydantic/_internal/_fields.py:160: UserWarning: Field \"model_args\" has conflict with protected namespace \"model_\".\n",
      "\n",
      "You may be able to resolve this warning by setting `model_config['protected_namespaces'] = ()`.\n",
      "  warnings.warn(\n"
     ]
    }
   ],
   "source": [
    "from IPython.display import display, HTML, Image\n",
    "import matplotlib\n",
    "import matplotlib.pyplot as plt\n",
    "import torch\n",
    "import torch.nn.functional as F\n",
    "import sys  \n",
    "import os\n",
    "from functools import partial\n",
    "\n",
    "sys.path.insert(0, '../../..')\n",
    "\n",
    "from dynnn.simulation.mve_ensemble import MveEnsembleMechanics\n",
    "from dynnn.simulation.mve_ensemble.viz import visualize_trajectory, plot_energy\n",
    "from dynnn.simulation.mve_ensemble.mve_ensemble import energy_conservation_loss, calc_kinetic_energy, get_initial_conditions\n",
    "from dynnn.train.pinn_train import pinn_train # as train\n",
    "from dynnn.train.simulator_train import simulator_train as train\n",
    "from dynnn.utils import load_model, load_stats"
   ]
  },
  {
   "cell_type": "code",
   "execution_count": 2,
   "metadata": {},
   "outputs": [],
   "source": [
    "import argparse\n",
    "\n",
    "def get_args():\n",
    "    parser = argparse.ArgumentParser(allow_abbrev=False)\n",
    "    parser.add_argument('--device', default=\"cpu\", type=str, help=\"device to run on\")\n",
    "    parser.add_argument('--rl_learn_rate', default=1e-4, type=float, help='learning rate')\n",
    "    parser.add_argument('--rl_weight_decay', default=1e-5, type=float, help='weight decay')\n",
    "    parser.add_argument('--num_experiments', default=100, type=int, help='number of RL param switch experiments')\n",
    "    parser.add_argument('--max_simulator_steps', default=1000, type=int, help='max steps within an experiment')\n",
    "    parser.add_argument('--verbose', default=False, type=bool, help='is notebook verbose? shows extra stuff that takes time to compute.')\n",
    "    parser.set_defaults(feature=True)\n",
    "    return parser.parse_known_args()[0]\n",
    "\n",
    "args = get_args()\n",
    "\n",
    "torch.set_default_device(args.device)"
   ]
  },
  {
   "cell_type": "code",
   "execution_count": 3,
   "metadata": {},
   "outputs": [],
   "source": [
    "mechanics = MveEnsembleMechanics()\n",
    "\n",
    "def plot_energy_from_coords(r, v, time, masses):\n",
    "    pe = mechanics.no_bc_potential_fn(r).detach().cpu()\n",
    "    ke = calc_kinetic_energy(v, masses).detach().cpu()\n",
    "    te = pe + ke\n",
    "\n",
    "    plot_energy(pe, ke, te, time.cpu())"
   ]
  },
  {
   "cell_type": "code",
   "execution_count": 4,
   "metadata": {},
   "outputs": [],
   "source": [
    "y0, masses = get_initial_conditions(5)\n",
    "\n",
    "if args.verbose:\n",
    "    r, v, dr, dv, time = mechanics.get_trajectory({ \"y0\": y0, \"masses\": masses }).dict().values()\n",
    "    plot_energy_from_coords(r, v, time, masses)\n",
    "    ani = visualize_trajectory(r.detach().cpu(), len(time), (mechanics.domain_min, mechanics.domain_max))\n",
    "    display(HTML(ani.to_jshtml()))"
   ]
  },
  {
   "cell_type": "code",
   "execution_count": 5,
   "metadata": {},
   "outputs": [],
   "source": [
    "if args.verbose:\n",
    "    ani.save(sys.path[0] + '/../images/mve_ensemble.gif', writer='pillow')\n",
    "    display(Image(filename=sys.path[0] + '/../images/mve_ensemble.gif'))"
   ]
  },
  {
   "cell_type": "code",
   "execution_count": 6,
   "metadata": {},
   "outputs": [],
   "source": [
    "# data, _ = mechanics.get_dataset({}, { \"y0\": y0, \"masses\": masses })"
   ]
  },
  {
   "cell_type": "code",
   "execution_count": 7,
   "metadata": {},
   "outputs": [],
   "source": [
    "if args.verbose:\n",
    "    data_r, data_v = [v.squeeze(-2) for v in torch.split(data[\"x\"][0], 1, dim=-2)]\n",
    "    plot_energy_from_coords(data_r, data_v, data[\"time\"], masses)\n",
    "    ani = visualize_trajectory(data_r, len(data[\"time\"]), mechanics.domain)\n",
    "    display(HTML(ani.to_jshtml()))"
   ]
  },
  {
   "cell_type": "code",
   "execution_count": 8,
   "metadata": {},
   "outputs": [
    {
     "ename": "AttributeError",
     "evalue": "'Namespace' object has no attribute 'model'",
     "output_type": "error",
     "traceback": [
      "\u001b[0;31m---------------------------------------------------------------------------\u001b[0m",
      "\u001b[0;31mAttributeError\u001b[0m                            Traceback (most recent call last)",
      "Cell \u001b[0;32mIn[8], line 31\u001b[0m\n\u001b[1;32m     28\u001b[0m         fig\u001b[38;5;241m.\u001b[39mtight_layout()\n\u001b[1;32m     29\u001b[0m     display(fig, clear\u001b[38;5;241m=\u001b[39m\u001b[38;5;28;01mTrue\u001b[39;00m)\n\u001b[0;32m---> 31\u001b[0m \u001b[38;5;28;01mif\u001b[39;00m \u001b[43margs\u001b[49m\u001b[38;5;241;43m.\u001b[39;49m\u001b[43mmodel\u001b[49m \u001b[38;5;129;01mis\u001b[39;00m \u001b[38;5;28;01mNone\u001b[39;00m:\n\u001b[1;32m     32\u001b[0m     \u001b[38;5;28;01mdef\u001b[39;00m \u001b[38;5;21mloss_fn\u001b[39m(dxdt, dxdt_hat, s, masses):\n\u001b[1;32m     33\u001b[0m \u001b[38;5;250m        \u001b[39m\u001b[38;5;124;03m\"\"\"\u001b[39;00m\n\u001b[1;32m     34\u001b[0m \u001b[38;5;124;03m        Calculate the loss\u001b[39;00m\n\u001b[1;32m     35\u001b[0m \u001b[38;5;124;03m        \"\"\"\u001b[39;00m\n",
      "\u001b[0;31mAttributeError\u001b[0m: 'Namespace' object has no attribute 'model'"
     ]
    }
   ],
   "source": [
    "# load or train model\n",
    "%matplotlib inline\n",
    "\n",
    "\n",
    "def plot_loss(stats: dict, zoom_length: int = 500, key_sets: list[list[str]] | None = None):\n",
    "    if key_sets is None:\n",
    "        key_sets = [stats.keys()]\n",
    "\n",
    "    if not 'fig' in vars():\n",
    "        fig, axes = plt.subplots(len(key_sets), 2, figsize=(10, 4))\n",
    "\n",
    "    for i, keys in enumerate(key_sets):\n",
    "        axes[i][0].clear()\n",
    "        axes[i][0].set_title(\"Loss\")\n",
    "        axes[i][0].set_xlabel(\"time\")\n",
    "        for key in keys:\n",
    "            axes[i][0].plot(getattr(stats, key), label=key)\n",
    "        axes[i][0].legend(fontsize=8)\n",
    "        axes[i][0].set_yscale(\"log\")\n",
    "\n",
    "        axes[i][1].clear()\n",
    "        axes[i][1].set_title(f\"Last {zoom_length} steps loss\")\n",
    "        axes[i][1].set_xlabel(\"time\")\n",
    "        for key in keys:\n",
    "            axes[i][1].plot(getattr(stats, key)[-zoom_length:], label=key)\n",
    "        axes[i][1].legend(fontsize=8)\n",
    "        axes[i][1].set_yscale(\"log\")\n",
    "        fig.tight_layout()\n",
    "    display(fig, clear=True)\n",
    "\n",
    "# model = load_model(args.model)\n",
    "def loss_fn(dxdt, dxdt_hat, s, masses):\n",
    "    \"\"\"\n",
    "    Calculate the loss\n",
    "    \"\"\"\n",
    "    loss = F.mse_loss(dxdt, dxdt_hat)\n",
    "\n",
    "    energy_loss = energy_conservation_loss(s, s + dxdt_hat * 0.01, masses).sum()\n",
    "    loss += energy_loss\n",
    "\n",
    "    return loss, energy_loss\n",
    "\n",
    "model, stats = train(\n",
    "    args,\n",
    "    pinn_loss_fn=loss_fn,\n",
    "    plot_loss_callback=partial(plot_loss, key_sets=[[\"train_loss\", \"test_loss\"], [\"train_additional_loss\", \"test_additional_loss\"]])\n",
    ")\n"
   ]
  },
  {
   "cell_type": "code",
   "execution_count": null,
   "metadata": {},
   "outputs": [],
   "source": [
    "# plot model output\n",
    "\n",
    "test_y0, test_masses = get_initial_conditions(5)\n",
    "initial_state = test_y0.clone().detach().requires_grad_()\n",
    "r, v, dr, dv, time = mechanics.get_trajectory({\"y0\": initial_state, \"masses\": test_masses, \"model\": model}).dict().values()\n",
    "plot_energy_from_coords(r, v, time, test_masses)\n",
    "\n",
    "ani_model = visualize_trajectory(r, len(time), (mechanics.domain_min, mechanics.domain_max))\n",
    "HTML(ani_model.to_jshtml())"
   ]
  }
 ],
 "metadata": {
  "kernelspec": {
   "display_name": "Python 3",
   "language": "python",
   "name": "python3"
  },
  "language_info": {
   "codemirror_mode": {
    "name": "ipython",
    "version": 3
   },
   "file_extension": ".py",
   "mimetype": "text/x-python",
   "name": "python",
   "nbconvert_exporter": "python",
   "pygments_lexer": "ipython3",
   "version": "3.12.3"
  }
 },
 "nbformat": 4,
 "nbformat_minor": 2
}
