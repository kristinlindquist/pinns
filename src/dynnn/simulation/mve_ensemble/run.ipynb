{
 "cells": [
  {
   "cell_type": "code",
   "execution_count": 6,
   "metadata": {},
   "outputs": [],
   "source": [
    "from IPython.display import HTML\n",
    "import matplotlib.pyplot as plt\n",
    "import torch\n",
    "import sys  \n",
    "import os\n",
    "sys.path.insert(0, '../../..')\n",
    "\n",
    "from dynnn.simulation.mve_ensemble import MveEnsembleMechanics\n",
    "from dynnn.simulation.mve_ensemble.viz import visualize_trajectory, plot_energy\n",
    "from dynnn.simulation.mve_ensemble.mve_ensemble import calc_kinetic_energy, get_initial_conditions\n",
    "from dynnn.train import train\n"
   ]
  },
  {
   "cell_type": "code",
   "execution_count": 7,
   "metadata": {},
   "outputs": [],
   "source": [
    "import argparse\n",
    "\n",
    "def get_args():\n",
    "    parser = argparse.ArgumentParser(allow_abbrev=False)\n",
    "    parser.add_argument('--device', default=\"mps\", type=str, help=\"device to run on\")\n",
    "    parser.add_argument('--batch_size', default=1000, type=int, help='batch size')\n",
    "    parser.add_argument('--hidden_dim', default=300, type=int, help='hidden dimension of mlp')\n",
    "    parser.add_argument('--learn_rate', default=1e-3, type=float, help='learning rate')\n",
    "    parser.add_argument('--weight_decay', default=1e-5, type=float, help='weight decay')\n",
    "    parser.add_argument('--total_steps', default=3000, type=int, help='number of gradient steps')\n",
    "    parser.add_argument('--n_bodies', default=10, type=int, help='number of particles')\n",
    "    parser.add_argument('--n_dims', default=3, type=int, help='number of dimensions')\n",
    "    parser.add_argument('--field_type', default='both', type=str, help='type of vector field to learn (if Hamiltonian)') # solenoidal, conservative\n",
    "    parser.set_defaults(feature=True)\n",
    "    return parser.parse_known_args()[0]\n",
    "\n",
    "args = get_args()\n",
    "torch.set_default_device(args.device)"
   ]
  },
  {
   "cell_type": "code",
   "execution_count": 8,
   "metadata": {},
   "outputs": [],
   "source": [
    "mechanics = MveEnsembleMechanics()\n"
   ]
  },
  {
   "cell_type": "code",
   "execution_count": 9,
   "metadata": {},
   "outputs": [],
   "source": [
    "def plot_energy_from_coords(r, v, time):\n",
    "    pe = mechanics.no_bc_potential_fn(r.transpose(0, 1)).detach().cpu()\n",
    "    ke = calc_kinetic_energy(v.transpose(0, 1), masses).detach().cpu()\n",
    "    te = pe + ke\n",
    "\n",
    "    plot_energy(pe, ke, te, time.cpu())"
   ]
  },
  {
   "cell_type": "code",
   "execution_count": 10,
   "metadata": {},
   "outputs": [
    {
     "name": "stdout",
     "output_type": "stream",
     "text": [
      "Transaction 3c255cd853c343a8b932d30fe0aac09c: 100 steps (last t: tensor([0.4614], device='mps:0', grad_fn=<AddBackward0>))\n",
      "Transaction 3c255cd853c343a8b932d30fe0aac09c: 200 steps (last t: tensor([0.6066], device='mps:0', grad_fn=<AddBackward0>))\n",
      "Transaction 3c255cd853c343a8b932d30fe0aac09c: 300 steps (last t: tensor([0.6847], device='mps:0', grad_fn=<AddBackward0>))\n",
      "Transaction 3c255cd853c343a8b932d30fe0aac09c: 400 steps (last t: tensor([0.7934], device='mps:0', grad_fn=<AddBackward0>))\n",
      "Transaction 3c255cd853c343a8b932d30fe0aac09c: 500 steps (last t: tensor([0.9161], device='mps:0', grad_fn=<AddBackward0>))\n",
      "Transaction 3c255cd853c343a8b932d30fe0aac09c: 600 steps (last t: tensor([1.1474], device='mps:0', grad_fn=<AddBackward0>))\n",
      "Transaction 3c255cd853c343a8b932d30fe0aac09c: 700 steps (last t: tensor([1.2740], device='mps:0', grad_fn=<AddBackward0>))\n",
      "Transaction 3c255cd853c343a8b932d30fe0aac09c: 800 steps (last t: tensor([1.4234], device='mps:0', grad_fn=<AddBackward0>))\n",
      "Transaction 3c255cd853c343a8b932d30fe0aac09c: 900 steps (last t: tensor([1.5675], device='mps:0', grad_fn=<AddBackward0>))\n",
      "Transaction 3c255cd853c343a8b932d30fe0aac09c: 1000 steps (last t: tensor([1.8094], device='mps:0', grad_fn=<AddBackward0>))\n",
      "Transaction 3c255cd853c343a8b932d30fe0aac09c: 1100 steps (last t: tensor([3.0201], device='mps:0', grad_fn=<AddBackward0>))\n",
      "Transaction 3c255cd853c343a8b932d30fe0aac09c: 1200 steps (last t: tensor([3.7312], device='mps:0', grad_fn=<AddBackward0>))\n",
      "Transaction 3c255cd853c343a8b932d30fe0aac09c: 1300 steps (last t: tensor([4.1734], device='mps:0', grad_fn=<AddBackward0>))\n",
      "Transaction 3c255cd853c343a8b932d30fe0aac09c: 1400 steps (last t: tensor([4.5249], device='mps:0', grad_fn=<AddBackward0>))\n",
      "Transaction 3c255cd853c343a8b932d30fe0aac09c: 1500 steps (last t: tensor([5.1279], device='mps:0', grad_fn=<AddBackward0>))\n",
      "Transaction 3c255cd853c343a8b932d30fe0aac09c: 1600 steps (last t: tensor([5.7430], device='mps:0', grad_fn=<AddBackward0>))\n",
      "Transaction 3c255cd853c343a8b932d30fe0aac09c: 1700 steps (last t: tensor([5.9559], device='mps:0', grad_fn=<AddBackward0>))\n",
      "Transaction 3c255cd853c343a8b932d30fe0aac09c: 1800 steps (last t: tensor([6.0503], device='mps:0', grad_fn=<AddBackward0>))\n",
      "Transaction 3c255cd853c343a8b932d30fe0aac09c: 1900 steps (last t: tensor([6.1406], device='mps:0', grad_fn=<AddBackward0>))\n",
      "Transaction 3c255cd853c343a8b932d30fe0aac09c: 2000 steps (last t: tensor([6.2566], device='mps:0', grad_fn=<AddBackward0>))\n",
      "Transaction 3c255cd853c343a8b932d30fe0aac09c: 2100 steps (last t: tensor([6.4838], device='mps:0', grad_fn=<AddBackward0>))\n",
      "Transaction 3c255cd853c343a8b932d30fe0aac09c: 2200 steps (last t: tensor([7.0552], device='mps:0', grad_fn=<AddBackward0>))\n",
      "Transaction 3c255cd853c343a8b932d30fe0aac09c: 2300 steps (last t: tensor([7.3223], device='mps:0', grad_fn=<AddBackward0>))\n",
      "Transaction 3c255cd853c343a8b932d30fe0aac09c: 2400 steps (last t: tensor([7.4496], device='mps:0', grad_fn=<AddBackward0>))\n",
      "Transaction 3c255cd853c343a8b932d30fe0aac09c: 2500 steps (last t: tensor([7.5303], device='mps:0', grad_fn=<AddBackward0>))\n",
      "Transaction 3c255cd853c343a8b932d30fe0aac09c: 2600 steps (last t: tensor([7.6745], device='mps:0', grad_fn=<AddBackward0>))\n",
      "Transaction 3c255cd853c343a8b932d30fe0aac09c: 2700 steps (last t: tensor([8.1705], device='mps:0', grad_fn=<AddBackward0>))\n",
      "Transaction 3c255cd853c343a8b932d30fe0aac09c: 2800 steps (last t: tensor([9.1165], device='mps:0', grad_fn=<AddBackward0>))\n",
      "Transaction 3c255cd853c343a8b932d30fe0aac09c: 2900 steps (last t: tensor([9.3482], device='mps:0', grad_fn=<AddBackward0>))\n",
      "Transaction 3c255cd853c343a8b932d30fe0aac09c: 3000 steps (last t: tensor([9.3838], device='mps:0', grad_fn=<AddBackward0>))\n",
      "Transaction 3c255cd853c343a8b932d30fe0aac09c: 3100 steps (last t: tensor([9.3890], device='mps:0', grad_fn=<AddBackward0>))\n",
      "Transaction 3c255cd853c343a8b932d30fe0aac09c: 3200 steps (last t: tensor([9.3952], device='mps:0', grad_fn=<AddBackward0>))\n",
      "Transaction 3c255cd853c343a8b932d30fe0aac09c: 3300 steps (last t: tensor([9.4001], device='mps:0', grad_fn=<AddBackward0>))\n",
      "Transaction 3c255cd853c343a8b932d30fe0aac09c: 3400 steps (last t: tensor([9.4053], device='mps:0', grad_fn=<AddBackward0>))\n",
      "Transaction 3c255cd853c343a8b932d30fe0aac09c: 3500 steps (last t: tensor([9.4139], device='mps:0', grad_fn=<AddBackward0>))\n",
      "Transaction 3c255cd853c343a8b932d30fe0aac09c: 3600 steps (last t: tensor([9.4218], device='mps:0', grad_fn=<AddBackward0>))\n",
      "Transaction 3c255cd853c343a8b932d30fe0aac09c: 3700 steps (last t: tensor([9.4290], device='mps:0', grad_fn=<AddBackward0>))\n",
      "Transaction 3c255cd853c343a8b932d30fe0aac09c: 3800 steps (last t: tensor([9.4406], device='mps:0', grad_fn=<AddBackward0>))\n",
      "Transaction 3c255cd853c343a8b932d30fe0aac09c: 3900 steps (last t: tensor([9.4560], device='mps:0', grad_fn=<AddBackward0>))\n",
      "Transaction 3c255cd853c343a8b932d30fe0aac09c: 4000 steps (last t: tensor([9.4641], device='mps:0', grad_fn=<AddBackward0>))\n",
      "Transaction 3c255cd853c343a8b932d30fe0aac09c: 4100 steps (last t: tensor([9.4750], device='mps:0', grad_fn=<AddBackward0>))\n",
      "Transaction 3c255cd853c343a8b932d30fe0aac09c: 4200 steps (last t: tensor([9.4843], device='mps:0', grad_fn=<AddBackward0>))\n",
      "Transaction 3c255cd853c343a8b932d30fe0aac09c: 4300 steps (last t: tensor([9.4945], device='mps:0', grad_fn=<AddBackward0>))\n",
      "Transaction 3c255cd853c343a8b932d30fe0aac09c: 4400 steps (last t: tensor([9.5032], device='mps:0', grad_fn=<AddBackward0>))\n",
      "Transaction 3c255cd853c343a8b932d30fe0aac09c: 4500 steps (last t: tensor([9.5138], device='mps:0', grad_fn=<AddBackward0>))\n",
      "Transaction 3c255cd853c343a8b932d30fe0aac09c: 4600 steps (last t: tensor([9.5224], device='mps:0', grad_fn=<AddBackward0>))\n",
      "Transaction 3c255cd853c343a8b932d30fe0aac09c: 4700 steps (last t: tensor([9.5304], device='mps:0', grad_fn=<AddBackward0>))\n",
      "Transaction 3c255cd853c343a8b932d30fe0aac09c: 4800 steps (last t: tensor([9.5391], device='mps:0', grad_fn=<AddBackward0>))\n",
      "Transaction 3c255cd853c343a8b932d30fe0aac09c: 4900 steps (last t: tensor([9.5452], device='mps:0', grad_fn=<AddBackward0>))\n",
      "Transaction 3c255cd853c343a8b932d30fe0aac09c: 5000 steps (last t: tensor([9.5518], device='mps:0', grad_fn=<AddBackward0>))\n",
      "Transaction 3c255cd853c343a8b932d30fe0aac09c: 5100 steps (last t: tensor([9.5579], device='mps:0', grad_fn=<AddBackward0>))\n",
      "Transaction 3c255cd853c343a8b932d30fe0aac09c: 5200 steps (last t: tensor([9.5639], device='mps:0', grad_fn=<AddBackward0>))\n",
      "Transaction 3c255cd853c343a8b932d30fe0aac09c: 5300 steps (last t: tensor([9.5911], device='mps:0', grad_fn=<AddBackward0>))\n",
      "Transaction 3c255cd853c343a8b932d30fe0aac09c: 5400 steps (last t: tensor([9.6972], device='mps:0', grad_fn=<AddBackward0>))\n",
      "Transaction 3c255cd853c343a8b932d30fe0aac09c: 5500 steps (last t: tensor([10.0667], device='mps:0', grad_fn=<AddBackward0>))\n",
      "Transaction 3c255cd853c343a8b932d30fe0aac09c: 5600 steps (last t: tensor([10.8725], device='mps:0', grad_fn=<AddBackward0>))\n",
      "Transaction 3c255cd853c343a8b932d30fe0aac09c: 5700 steps (last t: tensor([11.6625], device='mps:0', grad_fn=<AddBackward0>))\n",
      "Transaction 3c255cd853c343a8b932d30fe0aac09c: 5800 steps (last t: tensor([11.7729], device='mps:0', grad_fn=<AddBackward0>))\n",
      "Transaction 3c255cd853c343a8b932d30fe0aac09c: 5900 steps (last t: tensor([11.8624], device='mps:0', grad_fn=<AddBackward0>))\n",
      "Transaction 3c255cd853c343a8b932d30fe0aac09c: 6000 steps (last t: tensor([11.9180], device='mps:0', grad_fn=<AddBackward0>))\n",
      "Transaction 3c255cd853c343a8b932d30fe0aac09c: 6100 steps (last t: tensor([11.9565], device='mps:0', grad_fn=<AddBackward0>))\n",
      "Transaction 3c255cd853c343a8b932d30fe0aac09c: 6200 steps (last t: tensor([12.0012], device='mps:0', grad_fn=<AddBackward0>))\n",
      "Transaction 3c255cd853c343a8b932d30fe0aac09c: 6300 steps (last t: tensor([12.0521], device='mps:0', grad_fn=<AddBackward0>))\n",
      "Transaction 3c255cd853c343a8b932d30fe0aac09c: 6400 steps (last t: tensor([12.1149], device='mps:0', grad_fn=<AddBackward0>))\n",
      "Transaction 3c255cd853c343a8b932d30fe0aac09c: 6500 steps (last t: tensor([12.3864], device='mps:0', grad_fn=<AddBackward0>))\n",
      "Transaction 3c255cd853c343a8b932d30fe0aac09c: 6600 steps (last t: tensor([12.8432], device='mps:0', grad_fn=<AddBackward0>))\n",
      "Transaction 3c255cd853c343a8b932d30fe0aac09c: 6700 steps (last t: tensor([12.9264], device='mps:0', grad_fn=<AddBackward0>))\n",
      "Transaction 3c255cd853c343a8b932d30fe0aac09c: 6800 steps (last t: tensor([13.0177], device='mps:0', grad_fn=<AddBackward0>))\n",
      "Transaction 3c255cd853c343a8b932d30fe0aac09c: 6900 steps (last t: tensor([13.0998], device='mps:0', grad_fn=<AddBackward0>))\n",
      "Transaction 3c255cd853c343a8b932d30fe0aac09c: 7000 steps (last t: tensor([13.1713], device='mps:0', grad_fn=<AddBackward0>))\n"
     ]
    }
   ],
   "source": [
    "y0, masses = get_initial_conditions(args.n_bodies, args.n_dims)\n",
    "\n",
    "r, v, dr, dv, time = mechanics.get_trajectory({ \"y0\": y0, \"masses\": masses }).dict().values()\n",
    "plot_energy_from_coords(r, v, time)\n",
    "ani = visualize_trajectory(r.transpose(0, 1).detach().cpu(), len(time), mechanics.domain)\n",
    "HTML(ani.to_jshtml())"
   ]
  },
  {
   "cell_type": "code",
   "execution_count": null,
   "metadata": {},
   "outputs": [],
   "source": [
    "# load data\n",
    "import os, pickle\n",
    "pickle_path = 'mve_ensemble_data.pkl'\n",
    "\n",
    "if os.path.exists(pickle_path):\n",
    "    print(f\"Loading data from {pickle_path}\")\n",
    "    with open(pickle_path, 'rb') as file:\n",
    "        data = pickle.loads(file.read())\n",
    "else:\n",
    "    print(\"Creating data...\")\n",
    "    data = mechanics.get_dataset({}, { \"y0\": y0, \"masses\": masses })\n",
    "    print(f\"Saving data to {pickle_path}\")\n",
    "    with open(pickle_path, 'wb') as file:\n",
    "        pickle.dump(data, file)"
   ]
  },
  {
   "cell_type": "code",
   "execution_count": null,
   "metadata": {},
   "outputs": [],
   "source": [
    "# check data\n",
    "data_r, data_v = [v.squeeze(-2) for v in torch.split(data[\"x\"][0], 1, dim=-2)]\n",
    "plot_energy_from_coords(data_r, data_v, data[\"time\"])\n",
    "ani = visualize_trajectory(data_r.transpose(0, 1), len(data[\"time\"]), mechanics.domain)\n",
    "HTML(ani.to_jshtml())"
   ]
  },
  {
   "cell_type": "code",
   "execution_count": null,
   "metadata": {},
   "outputs": [],
   "source": [
    "# train model\n",
    "model, stats = train(args, data)"
   ]
  },
  {
   "cell_type": "code",
   "execution_count": null,
   "metadata": {},
   "outputs": [],
   "source": [
    "fig_e, ax_e = plt.subplots(figsize=[10, 4], dpi=100)\n",
    "plt.title(\"Loss\")\n",
    "plt.xlabel(\"time\")\n",
    "plt.plot(stats[\"train_loss\"], label=\"train_loss\")\n",
    "plt.plot(stats[\"test_loss\"], label=\"test_loss\")\n",
    "plt.legend(fontsize=8)\n",
    "\n",
    "fig_e, ax_e = plt.subplots(figsize=[10, 4], dpi=100)\n",
    "plt.title(\"Zoomed-in final loss\")\n",
    "plt.xlabel(\"time\")\n",
    "plt.plot(stats[\"train_loss\"][-500:], label=\"train_loss\")\n",
    "plt.plot(stats[\"test_loss\"][-500:], label=\"test_loss\")\n",
    "plt.legend(fontsize=8)\n"
   ]
  },
  {
   "cell_type": "code",
   "execution_count": null,
   "metadata": {},
   "outputs": [],
   "source": [
    "# plot model output\n",
    "\n",
    "test_y0, test_masses = get_initial_conditions(args.n_bodies, args.n_dims)\n",
    "initial_state = test_y0.clone().detach().requires_grad_()\n",
    "r, v, dr, dv, time = mechanics.get_trajectory({\"y0\": initial_state, \"masses\": test_masses, \"model\": model}).dict().values()\n",
    "plot_energy_from_coords(r, v, time)\n",
    "\n",
    "ani_model = visualize_trajectory(r.transpose(0, 1), len(time), mechanics.domain)\n",
    "HTML(ani_model.to_jshtml())"
   ]
  }
 ],
 "metadata": {
  "kernelspec": {
   "display_name": "Python 3",
   "language": "python",
   "name": "python3"
  },
  "language_info": {
   "codemirror_mode": {
    "name": "ipython",
    "version": 3
   },
   "file_extension": ".py",
   "mimetype": "text/x-python",
   "name": "python",
   "nbconvert_exporter": "python",
   "pygments_lexer": "ipython3",
   "version": "3.12.3"
  }
 },
 "nbformat": 4,
 "nbformat_minor": 2
}
