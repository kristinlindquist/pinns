{
 "cells": [
  {
   "cell_type": "code",
   "execution_count": 1,
   "metadata": {},
   "outputs": [
    {
     "ename": "ImportError",
     "evalue": "cannot import name 'train' from 'dynnn.train' (/Users/kristinlindquist/development/pinns/src/dynnn/simulation/mve_ensemble/../../../dynnn/train/__init__.py)",
     "output_type": "error",
     "traceback": [
      "\u001b[0;31m---------------------------------------------------------------------------\u001b[0m",
      "\u001b[0;31mImportError\u001b[0m                               Traceback (most recent call last)",
      "Cell \u001b[0;32mIn[1], line 14\u001b[0m\n\u001b[1;32m     12\u001b[0m \u001b[38;5;28;01mfrom\u001b[39;00m \u001b[38;5;21;01mdynnn\u001b[39;00m\u001b[38;5;21;01m.\u001b[39;00m\u001b[38;5;21;01msimulation\u001b[39;00m\u001b[38;5;21;01m.\u001b[39;00m\u001b[38;5;21;01mmve_ensemble\u001b[39;00m\u001b[38;5;21;01m.\u001b[39;00m\u001b[38;5;21;01mviz\u001b[39;00m \u001b[38;5;28;01mimport\u001b[39;00m visualize_trajectory, plot_energy\n\u001b[1;32m     13\u001b[0m \u001b[38;5;28;01mfrom\u001b[39;00m \u001b[38;5;21;01mdynnn\u001b[39;00m\u001b[38;5;21;01m.\u001b[39;00m\u001b[38;5;21;01msimulation\u001b[39;00m\u001b[38;5;21;01m.\u001b[39;00m\u001b[38;5;21;01mmve_ensemble\u001b[39;00m\u001b[38;5;21;01m.\u001b[39;00m\u001b[38;5;21;01mmve_ensemble\u001b[39;00m \u001b[38;5;28;01mimport\u001b[39;00m energy_conservation_loss, calc_kinetic_energy, get_initial_conditions\n\u001b[0;32m---> 14\u001b[0m \u001b[38;5;28;01mfrom\u001b[39;00m \u001b[38;5;21;01mdynnn\u001b[39;00m\u001b[38;5;21;01m.\u001b[39;00m\u001b[38;5;21;01mtrain\u001b[39;00m \u001b[38;5;28;01mimport\u001b[39;00m train\n\u001b[1;32m     15\u001b[0m \u001b[38;5;28;01mfrom\u001b[39;00m \u001b[38;5;21;01mdynnn\u001b[39;00m\u001b[38;5;21;01m.\u001b[39;00m\u001b[38;5;21;01mutils\u001b[39;00m \u001b[38;5;28;01mimport\u001b[39;00m load_model, load_stats\n",
      "\u001b[0;31mImportError\u001b[0m: cannot import name 'train' from 'dynnn.train' (/Users/kristinlindquist/development/pinns/src/dynnn/simulation/mve_ensemble/../../../dynnn/train/__init__.py)"
     ]
    }
   ],
   "source": [
    "from IPython.display import display, HTML, Image\n",
    "import matplotlib\n",
    "import matplotlib.pyplot as plt\n",
    "import torch\n",
    "import sys  \n",
    "import os\n",
    "from functools import partial\n",
    "\n",
    "sys.path.insert(0, '../../..')\n",
    "\n",
    "from dynnn.simulation.mve_ensemble import MveEnsembleMechanics\n",
    "from dynnn.simulation.mve_ensemble.viz import visualize_trajectory, plot_energy\n",
    "from dynnn.simulation.mve_ensemble.mve_ensemble import energy_conservation_loss, calc_kinetic_energy, get_initial_conditions\n",
    "from dynnn.train.dnn_train import dnn_train as train\n",
    "from dynnn.utils import load_model, load_stats"
   ]
  },
  {
   "cell_type": "code",
   "execution_count": null,
   "metadata": {},
   "outputs": [],
   "source": [
    "import argparse\n",
    "\n",
    "def get_args():\n",
    "    parser = argparse.ArgumentParser(allow_abbrev=False)\n",
    "    parser.add_argument('--device', default=\"cpu\", type=str, help=\"device to run on\")\n",
    "    parser.add_argument('--batch_size', default=10000, type=int, help='batch size')\n",
    "    parser.add_argument('--hidden_dim', default=3000, type=int, help='hidden dimension of mlp')\n",
    "    parser.add_argument('--rl_state_dim', default=500, type=int, help='dim of state space for reinforcement learning')\n",
    "    parser.add_argument('--rl_param_dim', default=500, type=int, help='dim of param space for reinforcement learning')\n",
    "    parser.add_argument('--learn_rate', default=1e-4, type=float, help='learning rate')\n",
    "    parser.add_argument('--weight_decay', default=1e-5, type=float, help='weight decay')\n",
    "    parser.add_argument('--total_steps', default=40000, type=int, help='number of gradient steps')\n",
    "    parser.add_argument('--n_bodies', default=20, type=int, help='number of particles')\n",
    "    parser.add_argument('--n_dims', default=3, type=int, help='number of dimensions')\n",
    "    parser.add_argument('--model', default=None, type=str, help='model file to load')\n",
    "    parser.add_argument('--verbose', default=False, type=bool, help='is notebook verbose? shows extra stuff that takes time to compute.')\n",
    "    parser.add_argument('--patience', default=10, type=int, help='patience for early stopping')\n",
    "    parser.add_argument('--tolerance', default=1e-1, type=float, help='tolerance for early stopping')\n",
    "    parser.add_argument('--min_epochs', default=5, type=int, help='minimum number of epochs before early stopping / saving model')\n",
    "    parser.add_argument('--steps_per_epoch', default=200, type=int, help='steps per epoch')\n",
    "    parser.add_argument('--field_type', default='conservative', type=str, help='type of vector field to learn') # solenoidal, conservative, port, both\n",
    "    parser.set_defaults(feature=True)\n",
    "    return parser.parse_known_args()[0]\n",
    "\n",
    "args = get_args()\n",
    "\n",
    "torch.set_default_device(args.device)"
   ]
  },
  {
   "cell_type": "code",
   "execution_count": null,
   "metadata": {},
   "outputs": [],
   "source": [
    "mechanics = MveEnsembleMechanics()\n",
    "\n",
    "def plot_energy_from_coords(r, v, time, masses):\n",
    "    pe = mechanics.no_bc_potential_fn(r).detach().cpu()\n",
    "    ke = calc_kinetic_energy(v, masses).detach().cpu()\n",
    "    te = pe + ke\n",
    "\n",
    "    plot_energy(pe, ke, te, time.cpu())"
   ]
  },
  {
   "cell_type": "code",
   "execution_count": null,
   "metadata": {},
   "outputs": [],
   "source": [
    "y0, masses = get_initial_conditions(args.n_bodies, args.n_dims)\n",
    "\n",
    "if args.verbose:\n",
    "    r, v, dr, dv, time = mechanics.get_trajectory({ \"y0\": y0, \"masses\": masses }).dict().values()\n",
    "    plot_energy_from_coords(r, v, time, masses)\n",
    "    ani = visualize_trajectory(r.detach().cpu(), len(time), mechanics.domain)\n",
    "    display(HTML(ani.to_jshtml()))"
   ]
  },
  {
   "cell_type": "code",
   "execution_count": null,
   "metadata": {},
   "outputs": [],
   "source": [
    "if args.verbose:\n",
    "    ani.save(sys.path[0] + '/../images/mve_ensemble.gif', writer='pillow')\n",
    "    display(Image(filename=sys.path[0] + '/../images/mve_ensemble.gif'))"
   ]
  },
  {
   "cell_type": "code",
   "execution_count": null,
   "metadata": {},
   "outputs": [],
   "source": [
    "data = mechanics.get_dataset({}, { \"y0\": y0, \"masses\": masses })"
   ]
  },
  {
   "cell_type": "code",
   "execution_count": null,
   "metadata": {},
   "outputs": [],
   "source": [
    "if args.verbose:\n",
    "    data_r, data_v = [v.squeeze(-2) for v in torch.split(data[\"x\"][0], 1, dim=-2)]\n",
    "    plot_energy_from_coords(data_r, data_v, data[\"time\"], masses)\n",
    "    ani = visualize_trajectory(data_r, len(data[\"time\"]), mechanics.domain)\n",
    "    display(HTML(ani.to_jshtml()))"
   ]
  },
  {
   "cell_type": "code",
   "execution_count": null,
   "metadata": {},
   "outputs": [],
   "source": [
    "# load or train model\n",
    "%matplotlib inline\n",
    "\n",
    "\n",
    "def plot_loss(stats: dict, zoom_length: int = 500, key_sets: list[list[str]] | None = None):\n",
    "    if key_sets is None:\n",
    "        key_sets = [stats.keys()]\n",
    "\n",
    "    if not 'fig' in vars():\n",
    "        fig, axes = plt.subplots(len(key_sets), 2, figsize=(10, 4))\n",
    "\n",
    "    for i, keys in enumerate(key_sets):\n",
    "        axes[i][0].clear()\n",
    "        axes[i][0].set_title(\"Loss\")\n",
    "        axes[i][0].set_xlabel(\"time\")\n",
    "        for key in keys:\n",
    "            axes[i][0].plot(stats[key], label=key)\n",
    "        axes[i][0].legend(fontsize=8)\n",
    "        axes[i][0].set_yscale(\"log\")\n",
    "\n",
    "        axes[i][1].clear()\n",
    "        axes[i][1].set_title(f\"Last {zoom_length} steps loss\")\n",
    "        axes[i][1].set_xlabel(\"time\")\n",
    "        for key in keys:\n",
    "            axes[i][1].plot(stats[key][-zoom_length:], label=key)\n",
    "        axes[i][1].legend(fontsize=8)\n",
    "        axes[i][1].set_yscale(\"log\")\n",
    "        fig.tight_layout()\n",
    "    display(fig, clear=True)\n",
    "\n",
    "if args.model is None:\n",
    "    args.additional_loss = partial(energy_conservation_loss, masses=masses)\n",
    "    # args.additional_loss = None\n",
    "    model, stats = train(args, data, partial(plot_loss, key_sets=[[\"train_loss\", \"test_loss\"], [\"train_additional_loss\", \"test_additional_loss\"]]))\n",
    "else:\n",
    "    model = load_model(args.model)\n",
    "    stats = load_stats(args.model)\n",
    "    plot_loss(stats)"
   ]
  },
  {
   "cell_type": "code",
   "execution_count": null,
   "metadata": {},
   "outputs": [],
   "source": [
    "# plot model output\n",
    "\n",
    "test_y0, test_masses = get_initial_conditions(args.n_bodies, args.n_dims)\n",
    "initial_state = test_y0.clone().detach().requires_grad_()\n",
    "r, v, dr, dv, time = mechanics.get_trajectory({\"y0\": initial_state, \"masses\": test_masses, \"model\": model}).dict().values()\n",
    "plot_energy_from_coords(r, v, time, test_masses)\n",
    "\n",
    "ani_model = visualize_trajectory(r, len(time), mechanics.domain)\n",
    "HTML(ani_model.to_jshtml())"
   ]
  }
 ],
 "metadata": {
  "kernelspec": {
   "display_name": "Python 3",
   "language": "python",
   "name": "python3"
  },
  "language_info": {
   "codemirror_mode": {
    "name": "ipython",
    "version": 3
   },
   "file_extension": ".py",
   "mimetype": "text/x-python",
   "name": "python",
   "nbconvert_exporter": "python",
   "pygments_lexer": "ipython3",
   "version": "3.12.3"
  }
 },
 "nbformat": 4,
 "nbformat_minor": 2
}
