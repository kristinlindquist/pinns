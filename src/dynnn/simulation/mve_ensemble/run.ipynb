{
 "cells": [
  {
   "cell_type": "code",
   "execution_count": 1,
   "metadata": {},
   "outputs": [],
   "source": [
    "from IPython.display import display, HTML, Image\n",
    "import matplotlib\n",
    "import matplotlib.pyplot as plt\n",
    "import torch\n",
    "import torch.nn.functional as F\n",
    "import sys  \n",
    "import os\n",
    "from functools import partial\n",
    "\n",
    "sys.path.insert(0, '../../..')\n",
    "sys.path.insert(1, '../../../logs')\n",
    "\n",
    "from dynnn.simulation.mve_ensemble import MveEnsembleMechanics\n",
    "from dynnn.simulation.mve_ensemble.viz import visualize_trajectory, plot_energy\n",
    "from dynnn.simulation.mve_ensemble.mve_ensemble import energy_conservation_loss, calc_kinetic_energy, get_initial_conditions, calc_total_energy_per_cell\n",
    "from dynnn.layers import TaskModel\n",
    "from dynnn.types import Dataset, PinnTrainingArgs, SimulatorTrainingArgs, SimulatorArgs\n",
    "from dynnn.utils import load_model"
   ]
  },
  {
   "cell_type": "code",
   "execution_count": 2,
   "metadata": {},
   "outputs": [],
   "source": [
    "DEVICE='cpu'\n",
    "if torch.cuda.is_available():\n",
    "    DEVICE='cuda'\n",
    "\n",
    "verbose=False\n",
    "torch.set_default_device(DEVICE)"
   ]
  },
  {
   "cell_type": "code",
   "execution_count": 3,
   "metadata": {},
   "outputs": [],
   "source": [
    "%matplotlib inline\n",
    "\n",
    "mechanics = MveEnsembleMechanics()\n",
    "\n",
    "def plot_energy_from_coords(r, v, time, masses):\n",
    "    pe = mechanics.no_bc_potential_fn(r).detach().cpu()\n",
    "    ke = calc_kinetic_energy(v, masses).detach().cpu()\n",
    "    te = pe + ke\n",
    "\n",
    "    plot_energy(pe, ke, te, time.cpu())\n",
    "\n",
    "def plot_loss(stats: dict, zoom_length: int = 500, key_sets: list[list[str]] | None = None):\n",
    "    if key_sets is None:\n",
    "        key_sets = [stats.keys()]\n",
    "\n",
    "    if not 'fig' in vars():\n",
    "        fig, axes = plt.subplots(len(key_sets), 2, figsize=(10, 4))\n",
    "\n",
    "    for i, keys in enumerate(key_sets):\n",
    "        axes[i][0].clear()\n",
    "        axes[i][0].set_title(\"Loss\")\n",
    "        axes[i][0].set_xlabel(\"time\")\n",
    "        for key in keys:\n",
    "            axes[i][0].plot(getattr(stats, key), label=key)\n",
    "        axes[i][0].legend(fontsize=8)\n",
    "        axes[i][0].set_yscale(\"log\")\n",
    "\n",
    "        axes[i][1].clear()\n",
    "        axes[i][1].set_title(f\"Last {zoom_length} steps loss\")\n",
    "        axes[i][1].set_xlabel(\"time\")\n",
    "        for key in keys:\n",
    "            axes[i][1].plot(getattr(stats, key)[-zoom_length:], label=key)\n",
    "        axes[i][1].legend(fontsize=8)\n",
    "        axes[i][1].set_yscale(\"log\")\n",
    "        fig.tight_layout()\n",
    "    display(fig, clear=True)"
   ]
  },
  {
   "cell_type": "code",
   "execution_count": 4,
   "metadata": {},
   "outputs": [],
   "source": [
    "if verbose:\n",
    "    r, v, dr, dv, time, masses = mechanics.get_trajectory({}).dict().values()\n",
    "    plot_energy_from_coords(r, v, time, masses)\n",
    "    ani = visualize_trajectory(r.detach().cpu(), len(time), (mechanics.domain_min, mechanics.domain_max))\n",
    "    display(HTML(ani.to_jshtml()))\n",
    "\n",
    "    ani.save(sys.path[0] + '/../images/mve_ensemble.gif', writer='pillow')\n",
    "    display(Image(filename=sys.path[0] + '/../images/mve_ensemble.gif'))"
   ]
  },
  {
   "cell_type": "code",
   "execution_count": 5,
   "metadata": {},
   "outputs": [
    {
     "name": "stderr",
     "output_type": "stream",
     "text": [
      "2024-06-20 13:12:00,139 dynnn.utils - INFO:Data file mve_data-n_samples-2-n_bodies-3_generator_type-2_time_scale-3_t_span_max-10_odeint_rtol-1e-07_odeint_atol-1e-06_odeint_solver-8_odeint_order-2.pkl not found.\n",
      "2024-06-20 13:12:00,139 dynnn.utils - INFO:Creating new data...\n",
      "2024-06-20 13:12:23,926 dynnn.mechanics.base_mechanics - INFO:Data traj: 1 of 2\n",
      "2024-06-20 13:12:23,927 dynnn.mechanics.base_mechanics - INFO:Data traj: 2 of 2\n"
     ]
    }
   ],
   "source": [
    "def transform_y(q, p, masses):\n",
    "    return calc_total_energy_per_cell(\n",
    "        q, p, masses,\n",
    "        grid_resolution=(4, 4, 4),\n",
    "        boundaries=(mechanics.domain_min, mechanics.domain_max)\n",
    "    ).mean(dim=0)\n",
    "\n",
    "data, _ = mechanics.get_dataset({\"n_samples\": 2}, { \"n_bodies\": 3, \"time_scale\": 3, \"t_span_max\": 10 })\n",
    "\n",
    "if verbose:\n",
    "    data_r, data_v = [v.squeeze(-2) for v in torch.split(data[\"x\"][0], 1, dim=-2)]\n",
    "    plot_energy_from_coords(data_r, data_v, data[\"time\"], masses)\n",
    "    ani = visualize_trajectory(data_r, len(data[\"time\"]), mechanics.domain)\n",
    "    display(HTML(ani.to_jshtml()))"
   ]
  },
  {
   "cell_type": "code",
   "execution_count": 6,
   "metadata": {},
   "outputs": [
    {
     "name": "stderr",
     "output_type": "stream",
     "text": [
      "2024-06-20 13:12:24,949 dynnn.utils - INFO:Data file mve_data-n_samples-2-n_bodies-5_generator_type-1_time_scale-3_t_span_max-6_odeint_rtol-3e-06_odeint_atol-2e-07_odeint_solver-1_odeint_order-1.pkl not found.\n",
      "2024-06-20 13:12:24,950 dynnn.utils - INFO:Creating new data...\n"
     ]
    }
   ],
   "source": [
    "def loss_fn(dxdt, dxdt_hat, s, masses):\n",
    "    \"\"\"\n",
    "    Calculate the loss\n",
    "    \"\"\"\n",
    "    loss = F.mse_loss(dxdt, dxdt_hat)\n",
    "\n",
    "    energy_loss = energy_conservation_loss(s, s + dxdt_hat * 0.01, masses).sum()\n",
    "    loss += energy_loss\n",
    "\n",
    "    return loss, energy_loss\n",
    "\n",
    "\n",
    "plot_loss_cb = partial(plot_loss, key_sets=[[\"train_loss\", \"test_loss\"], [\"train_additional_loss\", \"test_additional_loss\"]])\n",
    "initial_args = SimulatorArgs(training_args=PinnTrainingArgs(loss_fn=loss_fn, plot_loss_callback=plot_loss_cb))\n",
    "model = TaskModel(initial_sim_args=initial_args)\n",
    "model.train(SimulatorTrainingArgs(), data, transform_y)"
   ]
  },
  {
   "cell_type": "code",
   "execution_count": null,
   "metadata": {},
   "outputs": [],
   "source": [
    "# plot model output\n",
    "\n",
    "test_y0, test_masses = get_initial_conditions(5)\n",
    "initial_state = test_y0.clone().detach().requires_grad_()\n",
    "r, v, dr, dv, time = mechanics.get_trajectory({\"y0\": initial_state, \"masses\": test_masses, \"model\": model}).dict().values()\n",
    "plot_energy_from_coords(r, v, time, test_masses)\n",
    "\n",
    "ani_model = visualize_trajectory(r, len(time), (mechanics.domain_min, mechanics.domain_max))\n",
    "HTML(ani_model.to_jshtml())"
   ]
  }
 ],
 "metadata": {
  "kernelspec": {
   "display_name": "Python 3",
   "language": "python",
   "name": "python3"
  },
  "language_info": {
   "codemirror_mode": {
    "name": "ipython",
    "version": 3
   },
   "file_extension": ".py",
   "mimetype": "text/x-python",
   "name": "python",
   "nbconvert_exporter": "python",
   "pygments_lexer": "ipython3",
   "version": "3.12.3"
  }
 },
 "nbformat": 4,
 "nbformat_minor": 2
}
