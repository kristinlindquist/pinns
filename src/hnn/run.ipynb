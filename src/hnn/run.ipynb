{
 "cells": [
  {
   "cell_type": "code",
   "execution_count": 1,
   "metadata": {},
   "outputs": [],
   "source": [
    "import sys  \n",
    "sys.path.insert(0, '..')"
   ]
  },
  {
   "cell_type": "code",
   "execution_count": 2,
   "metadata": {},
   "outputs": [],
   "source": [
    "import argparse\n",
    "\n",
    "def get_args():\n",
    "    parser = argparse.ArgumentParser(description=None)\n",
    "    parser.add_argument('--input_dim', default=2, type=int, help='dimensionality of input tensor')\n",
    "    parser.add_argument('--hidden_dim', default=200, type=int, help='hidden dimension of mlp')\n",
    "    parser.add_argument('--learn_rate', default=1e-3, type=float, help='learning rate')\n",
    "    parser.add_argument('--total_steps', default=2000, type=int, help='number of gradient steps')\n",
    "    parser.add_argument('--name', default='pend', type=str, help='only one option right now')\n",
    "    parser.add_argument('--field_type', default='solenoidal', type=str, help='type of vector field to learn')\n",
    "    parser.set_defaults(feature=True)\n",
    "    return parser.parse_args()"
   ]
  },
  {
   "cell_type": "code",
   "execution_count": 4,
   "metadata": {},
   "outputs": [
    {
     "name": "stderr",
     "output_type": "stream",
     "text": [
      "/opt/homebrew/lib/python3.11/site-packages/tqdm/auto.py:21: TqdmWarning: IProgress not found. Please update jupyter and ipywidgets. See https://ipywidgets.readthedocs.io/en/stable/user_install.html\n",
      "  from .autonotebook import tqdm as notebook_tqdm\n",
      "/opt/homebrew/lib/python3.11/site-packages/transformers/utils/generic.py:441: UserWarning: torch.utils._pytree._register_pytree_node is deprecated. Please use torch.utils._pytree.register_pytree_node instead.\n",
      "  _torch_pytree._register_pytree_node(\n",
      "/var/folders/0v/9bqjr621655_pg00r8l1nlzh0000gn/T/ipykernel_78525/1246895753.py:18: UserWarning: To copy construct from a tensor, it is recommended to use sourceTensor.clone().detach() or sourceTensor.clone().detach().requires_grad_(True), rather than torch.tensor(sourceTensor).\n",
      "  x = torch.tensor( data['x'], requires_grad=True, dtype=torch.float32)\n",
      "/var/folders/0v/9bqjr621655_pg00r8l1nlzh0000gn/T/ipykernel_78525/1246895753.py:19: UserWarning: To copy construct from a tensor, it is recommended to use sourceTensor.clone().detach() or sourceTensor.clone().detach().requires_grad_(True), rather than torch.tensor(sourceTensor).\n",
      "  test_x = torch.tensor( data['test_x'], requires_grad=True, dtype=torch.float32)\n"
     ]
    },
    {
     "name": "stdout",
     "output_type": "stream",
     "text": [
      "Final train loss 3.0404e-02 +/- 1.6628e-03\n",
      "Final test loss 3.1661e-02 +/- 1.6327e-03\n"
     ]
    }
   ],
   "source": [
    "from hnn.train import train\n",
    "\n",
    "if __name__ == \"__main__\":\n",
    "    args = get_args()\n",
    "    model, stats = train(args)"
   ]
  }
 ],
 "metadata": {
  "kernelspec": {
   "display_name": "Python 3",
   "language": "python",
   "name": "python3"
  },
  "language_info": {
   "codemirror_mode": {
    "name": "ipython",
    "version": 3
   },
   "file_extension": ".py",
   "mimetype": "text/x-python",
   "name": "python",
   "nbconvert_exporter": "python",
   "pygments_lexer": "ipython3",
   "version": "3.11.4"
  }
 },
 "nbformat": 4,
 "nbformat_minor": 2
}
