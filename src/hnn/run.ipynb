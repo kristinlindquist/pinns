{
 "cells": [
  {
   "cell_type": "code",
   "execution_count": 1,
   "metadata": {},
   "outputs": [],
   "source": [
    "import matplotlib.pyplot as plt\n",
    "import scipy.integrate\n",
    "import torch\n",
    "import sys  \n",
    "sys.path.insert(0, '..')\n",
    "\n",
    "from hnn.simulation.pendulum import PendulumHamiltonianDynamics\n",
    "from hnn.utils import integrate_model\n",
    "from hnn.train import train\n",
    "from hnn.types import TrajectoryArgs"
   ]
  },
  {
   "cell_type": "code",
   "execution_count": 2,
   "metadata": {},
   "outputs": [],
   "source": [
    "import argparse\n",
    "\n",
    "def get_args():\n",
    "    parser = argparse.ArgumentParser(allow_abbrev=False)\n",
    "    parser.add_argument('--input_dim', default=2, type=int, help='dimensionality of input tensor')\n",
    "    parser.add_argument('--hidden_dim', default=200, type=int, help='hidden dimension of mlp')\n",
    "    parser.add_argument('--learn_rate', default=1e-3, type=float, help='learning rate')\n",
    "    parser.add_argument('--weight_decay', default=1e-4, type=float, help='weight decay')\n",
    "    parser.add_argument('--total_steps', default=200, type=int, help='number of gradient steps')\n",
    "    parser.add_argument('--field_type', default='both', type=str, help='type of vector field to learn') # solenoidal, conservative\n",
    "    parser.set_defaults(feature=True)\n",
    "    return parser.parse_known_args()[0]"
   ]
  },
  {
   "cell_type": "code",
   "execution_count": 3,
   "metadata": {},
   "outputs": [
    {
     "name": "stderr",
     "output_type": "stream",
     "text": [
      "/opt/homebrew/lib/python3.11/site-packages/torch/functional.py:504: UserWarning: torch.meshgrid: in an upcoming release, it will be required to pass the indexing argument. (Triggered internally at /Users/runner/work/pytorch/pytorch/pytorch/aten/src/ATen/native/TensorShape.cpp:3484.)\n",
      "  return _VF.meshgrid(tensors, **kwargs)  # type: ignore[attr-defined]\n"
     ]
    },
    {
     "name": "stdout",
     "output_type": "stream",
     "text": [
      "Final train loss 2.8162e-02 +/- 1.1457e-02\n",
      "Final test loss 2.8356e-02 +/- 1.1940e-02\n"
     ]
    }
   ],
   "source": [
    "args = get_args()\n",
    "\n",
    "hamiltonian = PendulumHamiltonianDynamics()\n",
    "data = hamiltonian.get_dataset({}, {})\n",
    "model, stats = train(args, data)"
   ]
  },
  {
   "cell_type": "code",
   "execution_count": 4,
   "metadata": {},
   "outputs": [
    {
     "ename": "TypeError",
     "evalue": "'HamiltonianField' object is not subscriptable",
     "output_type": "error",
     "traceback": [
      "\u001b[0;31m---------------------------------------------------------------------------\u001b[0m",
      "\u001b[0;31mTypeError\u001b[0m                                 Traceback (most recent call last)",
      "Cell \u001b[0;32mIn[4], line 18\u001b[0m\n\u001b[1;32m     10\u001b[0m field_args \u001b[38;5;241m=\u001b[39m {\n\u001b[1;32m     11\u001b[0m     \u001b[38;5;124m'\u001b[39m\u001b[38;5;124mxmin\u001b[39m\u001b[38;5;124m'\u001b[39m: \u001b[38;5;241m-\u001b[39mR,\n\u001b[1;32m     12\u001b[0m     \u001b[38;5;124m'\u001b[39m\u001b[38;5;124mxmax\u001b[39m\u001b[38;5;124m'\u001b[39m: R,\n\u001b[0;32m   (...)\u001b[0m\n\u001b[1;32m     15\u001b[0m     \u001b[38;5;124m'\u001b[39m\u001b[38;5;124mgridsize\u001b[39m\u001b[38;5;124m'\u001b[39m: \u001b[38;5;241m10\u001b[39m,\n\u001b[1;32m     16\u001b[0m }\n\u001b[1;32m     17\u001b[0m field \u001b[38;5;241m=\u001b[39m hamiltonian\u001b[38;5;241m.\u001b[39mget_field(field_args)\n\u001b[0;32m---> 18\u001b[0m vector_field \u001b[38;5;241m=\u001b[39m \u001b[43mhamiltonian\u001b[49m\u001b[38;5;241;43m.\u001b[39;49m\u001b[43mget_vector_field\u001b[49m\u001b[43m(\u001b[49m\u001b[43mmodel\u001b[49m\u001b[43m,\u001b[49m\u001b[43m \u001b[49m\u001b[43mfield_args\u001b[49m\u001b[43m)\u001b[49m\n",
      "File \u001b[0;32m/opt/homebrew/lib/python3.11/site-packages/multimethod/__init__.py:426\u001b[0m, in \u001b[0;36mmultidispatch.__call__\u001b[0;34m(self, *args, **kwargs)\u001b[0m\n\u001b[1;32m    424\u001b[0m params \u001b[38;5;241m=\u001b[39m \u001b[38;5;28mself\u001b[39m\u001b[38;5;241m.\u001b[39msignature\u001b[38;5;241m.\u001b[39mbind(\u001b[38;5;241m*\u001b[39margs, \u001b[38;5;241m*\u001b[39m\u001b[38;5;241m*\u001b[39mkwargs)\u001b[38;5;241m.\u001b[39margs \u001b[38;5;28;01mif\u001b[39;00m (kwargs \u001b[38;5;129;01mand\u001b[39;00m \u001b[38;5;28mself\u001b[39m\u001b[38;5;241m.\u001b[39msignature) \u001b[38;5;28;01melse\u001b[39;00m args\n\u001b[1;32m    425\u001b[0m func \u001b[38;5;241m=\u001b[39m \u001b[38;5;28mself\u001b[39m\u001b[38;5;241m.\u001b[39mdispatch(\u001b[38;5;241m*\u001b[39mparams)\n\u001b[0;32m--> 426\u001b[0m \u001b[38;5;28;01mreturn\u001b[39;00m \u001b[43mfunc\u001b[49m\u001b[43m(\u001b[49m\u001b[38;5;241;43m*\u001b[39;49m\u001b[43margs\u001b[49m\u001b[43m,\u001b[49m\u001b[43m \u001b[49m\u001b[38;5;241;43m*\u001b[39;49m\u001b[38;5;241;43m*\u001b[39;49m\u001b[43mkwargs\u001b[49m\u001b[43m)\u001b[49m\n",
      "File \u001b[0;32m~/development/pinns/src/hnn/../hnn/dynamics.py:85\u001b[0m, in \u001b[0;36mHamiltonianDynamics._\u001b[0;34m(self, model, field_args)\u001b[0m\n\u001b[1;32m     82\u001b[0m \u001b[38;5;129m@overload\u001b[39m\n\u001b[1;32m     83\u001b[0m \u001b[38;5;129m@get_vector_field\u001b[39m\u001b[38;5;241m.\u001b[39mregister\n\u001b[1;32m     84\u001b[0m \u001b[38;5;28;01mdef\u001b[39;00m \u001b[38;5;21m_\u001b[39m(\u001b[38;5;28mself\u001b[39m, model: torch\u001b[38;5;241m.\u001b[39mnn\u001b[38;5;241m.\u001b[39mModule, field_args: \u001b[38;5;28mdict\u001b[39m \u001b[38;5;241m=\u001b[39m {}) \u001b[38;5;241m-\u001b[39m\u001b[38;5;241m>\u001b[39m torch\u001b[38;5;241m.\u001b[39mTensor:\n\u001b[0;32m---> 85\u001b[0m     \u001b[38;5;28;01mreturn\u001b[39;00m \u001b[38;5;28;43mself\u001b[39;49m\u001b[38;5;241;43m.\u001b[39;49m\u001b[43mget_vector_field\u001b[49m\u001b[43m(\u001b[49m\u001b[43mmodel\u001b[49m\u001b[43m,\u001b[49m\u001b[43m \u001b[49m\u001b[43mFieldArgs\u001b[49m\u001b[43m(\u001b[49m\u001b[38;5;241;43m*\u001b[39;49m\u001b[38;5;241;43m*\u001b[39;49m\u001b[43mfield_args\u001b[49m\u001b[43m)\u001b[49m\u001b[43m)\u001b[49m\n",
      "File \u001b[0;32m/opt/homebrew/lib/python3.11/site-packages/multimethod/__init__.py:426\u001b[0m, in \u001b[0;36mmultidispatch.__call__\u001b[0;34m(self, *args, **kwargs)\u001b[0m\n\u001b[1;32m    424\u001b[0m params \u001b[38;5;241m=\u001b[39m \u001b[38;5;28mself\u001b[39m\u001b[38;5;241m.\u001b[39msignature\u001b[38;5;241m.\u001b[39mbind(\u001b[38;5;241m*\u001b[39margs, \u001b[38;5;241m*\u001b[39m\u001b[38;5;241m*\u001b[39mkwargs)\u001b[38;5;241m.\u001b[39margs \u001b[38;5;28;01mif\u001b[39;00m (kwargs \u001b[38;5;129;01mand\u001b[39;00m \u001b[38;5;28mself\u001b[39m\u001b[38;5;241m.\u001b[39msignature) \u001b[38;5;28;01melse\u001b[39;00m args\n\u001b[1;32m    425\u001b[0m func \u001b[38;5;241m=\u001b[39m \u001b[38;5;28mself\u001b[39m\u001b[38;5;241m.\u001b[39mdispatch(\u001b[38;5;241m*\u001b[39mparams)\n\u001b[0;32m--> 426\u001b[0m \u001b[38;5;28;01mreturn\u001b[39;00m \u001b[43mfunc\u001b[49m\u001b[43m(\u001b[49m\u001b[38;5;241;43m*\u001b[39;49m\u001b[43margs\u001b[49m\u001b[43m,\u001b[49m\u001b[43m \u001b[49m\u001b[38;5;241;43m*\u001b[39;49m\u001b[38;5;241;43m*\u001b[39;49m\u001b[43mkwargs\u001b[49m\u001b[43m)\u001b[49m\n",
      "File \u001b[0;32m~/development/pinns/src/hnn/../hnn/dynamics.py:92\u001b[0m, in \u001b[0;36mHamiltonianDynamics._\u001b[0;34m(self, model, field_args)\u001b[0m\n\u001b[1;32m     87\u001b[0m \u001b[38;5;129m@overload\u001b[39m\n\u001b[1;32m     88\u001b[0m \u001b[38;5;129m@get_vector_field\u001b[39m\u001b[38;5;241m.\u001b[39mregister\n\u001b[1;32m     89\u001b[0m \u001b[38;5;28;01mdef\u001b[39;00m \u001b[38;5;21m_\u001b[39m(\u001b[38;5;28mself\u001b[39m, model: torch\u001b[38;5;241m.\u001b[39mnn\u001b[38;5;241m.\u001b[39mModule, field_args: FieldArgs) \u001b[38;5;241m-\u001b[39m\u001b[38;5;241m>\u001b[39m torch\u001b[38;5;241m.\u001b[39mTensor:\n\u001b[1;32m     90\u001b[0m     field \u001b[38;5;241m=\u001b[39m \u001b[38;5;28mself\u001b[39m\u001b[38;5;241m.\u001b[39mget_field(field_args)\n\u001b[0;32m---> 92\u001b[0m     mesh_x \u001b[38;5;241m=\u001b[39m \u001b[43mfield\u001b[49m\u001b[43m[\u001b[49m\u001b[38;5;124;43m\"\u001b[39;49m\u001b[38;5;124;43mx\u001b[39;49m\u001b[38;5;124;43m\"\u001b[39;49m\u001b[43m]\u001b[49m\u001b[38;5;241m.\u001b[39mrequires_grad_()\n\u001b[1;32m     93\u001b[0m     mesh_dx \u001b[38;5;241m=\u001b[39m model\u001b[38;5;241m.\u001b[39mtime_derivative(mesh_x)\n\u001b[1;32m     95\u001b[0m     \u001b[38;5;28;01mreturn\u001b[39;00m mesh_dx\u001b[38;5;241m.\u001b[39mdata\n",
      "\u001b[0;31mTypeError\u001b[0m: 'HamiltonianField' object is not subscriptable"
     ]
    }
   ],
   "source": [
    "R = 2.5\n",
    "t_span=[0.0, 28.0]\n",
    "Y0 = torch.tensor([2.1, 0.0])\n",
    "LINE_SEGMENTS = 10\n",
    "ARROW_SCALE = 40\n",
    "ARROW_WIDTH = 6e-3\n",
    "LINE_WIDTH = 2\n",
    "\n",
    "traj_args = TrajectoryArgs(t_span=t_span, y0=Y0)\n",
    "field_args = {\n",
    "    'xmin': -R,\n",
    "    'xmax': R,\n",
    "    'ymin': -R,\n",
    "    'ymax': R,\n",
    "    'gridsize': 10,\n",
    "}\n",
    "field = hamiltonian.get_field(field_args)\n",
    "vector_field = hamiltonian.get_vector_field(model, field_args)"
   ]
  },
  {
   "cell_type": "code",
   "execution_count": null,
   "metadata": {},
   "outputs": [],
   "source": [
    "\n",
    "ivp = integrate_model(\n",
    "        model,\n",
    "        t_span,\n",
    "        y0=Y0,\n",
    "        timescale=100,\n",
    "        rtol=1e-12\n",
    ")"
   ]
  },
  {
   "cell_type": "markdown",
   "metadata": {},
   "source": []
  },
  {
   "cell_type": "code",
   "execution_count": null,
   "metadata": {},
   "outputs": [],
   "source": [
    "fig = plt.figure(figsize=(11.3, 3.2), facecolor='white', dpi=300)\n",
    "\n",
    "# plot data\n",
    "fig.add_subplot(1, 4, 1, frameon=True)\n",
    "x, y, dx, dy, t = hamiltonian.get_trajectory(traj_args)\n",
    "N = x.shape[1]\n",
    "point_colors = [(i/N, 0, 1-i/N) for i in range(N)]\n",
    "plt.scatter(x, y, s=14, label='data', c=point_colors)\n",
    "plt.quiver(\n",
    "        field.x[:,:,0],\n",
    "        field.x[:,:,1],\n",
    "        field.dx[:,0],\n",
    "        field.dx[:,1],\n",
    "        cmap='gray_r',\n",
    "        scale=ARROW_SCALE,\n",
    "        width=ARROW_WIDTH,\n",
    "        color=(.2,.2,.2)\n",
    ")  \n",
    "plt.xlabel(\"$q$\", fontsize=14)\n",
    "plt.ylabel(\"$p$\", rotation=0, fontsize=14)\n",
    "plt.title(\"Data\", pad=10)\n",
    "\n",
    "# plot HNN-modeled data\n",
    "fig.add_subplot(1, 4, 2, frameon=True)\n",
    "plt.quiver(\n",
    "        field.x[:,:,0],\n",
    "        field.x[:,:,1],\n",
    "        vector_field[:,:,0],\n",
    "        vector_field[:,:,1],\n",
    "        cmap='gray_r',\n",
    "        scale=ARROW_SCALE,\n",
    "        width=ARROW_WIDTH,\n",
    "        color=(.5,.5,.5)\n",
    ")\n",
    "\n",
    "for i, l in enumerate(torch.tensor_split(ivp, LINE_SEGMENTS)):\n",
    "        color = (float(i)/LINE_SEGMENTS, 0, 1-float(i)/LINE_SEGMENTS)\n",
    "        plt.plot(l[:, 0], l[:, 1], color=color, linewidth=LINE_WIDTH)\n",
    "\n",
    "plt.xlabel(\"$q$\", fontsize=14)\n",
    "plt.ylabel(\"$p$\", rotation=0, fontsize=14)\n",
    "plt.title(\"Hamiltonian NN\", pad=10)\n",
    "plt.tight_layout() ; plt.show()"
   ]
  }
 ],
 "metadata": {
  "kernelspec": {
   "display_name": "Python 3",
   "language": "python",
   "name": "python3"
  },
  "language_info": {
   "codemirror_mode": {
    "name": "ipython",
    "version": 3
   },
   "file_extension": ".py",
   "mimetype": "text/x-python",
   "name": "python",
   "nbconvert_exporter": "python",
   "pygments_lexer": "ipython3",
   "version": "3.11.4"
  }
 },
 "nbformat": 4,
 "nbformat_minor": 2
}
