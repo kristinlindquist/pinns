{
 "cells": [
  {
   "cell_type": "code",
   "execution_count": 1,
   "metadata": {},
   "outputs": [],
   "source": [
    "import sys  \n",
    "sys.path.insert(0, '..')"
   ]
  },
  {
   "cell_type": "code",
   "execution_count": 2,
   "metadata": {},
   "outputs": [],
   "source": [
    "import argparse\n",
    "\n",
    "def get_args():\n",
    "    parser = argparse.ArgumentParser(description=None)\n",
    "    parser.add_argument('--input_dim', default=2, type=int, help='dimensionality of input tensor')\n",
    "    parser.add_argument('--hidden_dim', default=200, type=int, help='hidden dimension of mlp')\n",
    "    parser.add_argument('--learn_rate', default=1e-3, type=float, help='learning rate')\n",
    "    parser.add_argument('--total_steps', default=2000, type=int, help='number of gradient steps')\n",
    "    parser.add_argument('--print_every', default=200, type=int, help='number of gradient steps between prints')\n",
    "    parser.add_argument('--name', default='pend', type=str, help='only one option right now')\n",
    "    parser.add_argument('--verbose', dest='verbose', action='store_true', help='verbose?')\n",
    "    parser.add_argument('--field_type', default='solenoidal', type=str, help='type of vector field to learn')\n",
    "    parser.set_defaults(feature=True)\n",
    "    return parser.parse_args()"
   ]
  },
  {
   "cell_type": "code",
   "execution_count": 3,
   "metadata": {},
   "outputs": [],
   "source": [
    "import torch\n",
    "import os, sys\n",
    "\n",
    "from hnn.models import MLP, HNN\n",
    "from hnn.simulation import get_dataset\n",
    "from hnn.utils import L2_loss\n",
    "\n",
    "def train(args):\n",
    "  output_dim = 2\n",
    "  nn_model = MLP(args.input_dim, args.hidden_dim, output_dim)\n",
    "  model = HNN(args.input_dim,\n",
    "              differentiable_model=nn_model,\n",
    "              field_type=args.field_type)\n",
    "  optim = torch.optim.Adam(model.parameters(), args.learn_rate, weight_decay=1e-4)\n",
    "\n",
    "  # arrange data\n",
    "  data = get_dataset()\n",
    "  x = torch.tensor( data['x'], requires_grad=True, dtype=torch.float32)\n",
    "  test_x = torch.tensor( data['test_x'], requires_grad=True, dtype=torch.float32)\n",
    "  dxdt = torch.Tensor(data['dx'])\n",
    "  test_dxdt = torch.Tensor(data['test_dx'])\n",
    "\n",
    "  # vanilla train loop\n",
    "  stats = {'train_loss': [], 'test_loss': []}\n",
    "  for step in range(args.total_steps+1):\n",
    "    \n",
    "    # train step\n",
    "    dxdt_hat = model.time_derivative(x)\n",
    "    loss = L2_loss(dxdt, dxdt_hat)\n",
    "    loss.backward() ; optim.step() ; optim.zero_grad()\n",
    "    \n",
    "    # run test data\n",
    "    test_dxdt_hat = model.time_derivative(test_x)\n",
    "    test_loss = L2_loss(test_dxdt, test_dxdt_hat)\n",
    "\n",
    "    # logging\n",
    "    stats['train_loss'].append(loss.item())\n",
    "    stats['test_loss'].append(test_loss.item())\n",
    "    if args.verbose and step % args.print_every == 0:\n",
    "      print(\"step {}, train_loss {:.4e}, test_loss {:.4e}\".format(step, loss.item(), test_loss.item()))\n",
    "\n",
    "  train_dxdt_hat = model.time_derivative(x)\n",
    "  train_dist = (dxdt - train_dxdt_hat)**2\n",
    "  test_dxdt_hat = model.time_derivative(test_x)\n",
    "  test_dist = (test_dxdt - test_dxdt_hat)**2\n",
    "\n",
    "  import math\n",
    "  print('Final train loss {:.4e} +/- {:.4e}\\nFinal test loss {:.4e} +/- {:.4e}'\n",
    "    .format(train_dist.mean().item(), train_dist.std().item()/math.sqrt(train_dist.shape[0]),\n",
    "            test_dist.mean().item(), test_dist.std().item()/math.sqrt(test_dist.shape[0])))\n",
    "\n",
    "  return model, stats\n"
   ]
  },
  {
   "cell_type": "code",
   "execution_count": 4,
   "metadata": {},
   "outputs": [
    {
     "name": "stderr",
     "output_type": "stream",
     "text": [
      "/opt/homebrew/lib/python3.11/site-packages/tqdm/auto.py:21: TqdmWarning: IProgress not found. Please update jupyter and ipywidgets. See https://ipywidgets.readthedocs.io/en/stable/user_install.html\n",
      "  from .autonotebook import tqdm as notebook_tqdm\n",
      "/opt/homebrew/lib/python3.11/site-packages/transformers/utils/generic.py:441: UserWarning: torch.utils._pytree._register_pytree_node is deprecated. Please use torch.utils._pytree.register_pytree_node instead.\n",
      "  _torch_pytree._register_pytree_node(\n",
      "/var/folders/0v/9bqjr621655_pg00r8l1nlzh0000gn/T/ipykernel_78082/3889675152.py:18: UserWarning: To copy construct from a tensor, it is recommended to use sourceTensor.clone().detach() or sourceTensor.clone().detach().requires_grad_(True), rather than torch.tensor(sourceTensor).\n",
      "  x = torch.tensor( data['x'], requires_grad=True, dtype=torch.float32)\n",
      "/var/folders/0v/9bqjr621655_pg00r8l1nlzh0000gn/T/ipykernel_78082/3889675152.py:19: UserWarning: To copy construct from a tensor, it is recommended to use sourceTensor.clone().detach() or sourceTensor.clone().detach().requires_grad_(True), rather than torch.tensor(sourceTensor).\n",
      "  test_x = torch.tensor( data['test_x'], requires_grad=True, dtype=torch.float32)\n"
     ]
    },
    {
     "ename": "NameError",
     "evalue": "name 'np' is not defined",
     "output_type": "error",
     "traceback": [
      "\u001b[0;31m---------------------------------------------------------------------------\u001b[0m",
      "\u001b[0;31mNameError\u001b[0m                                 Traceback (most recent call last)",
      "Cell \u001b[0;32mIn[4], line 3\u001b[0m\n\u001b[1;32m      1\u001b[0m \u001b[38;5;28;01mif\u001b[39;00m \u001b[38;5;18m__name__\u001b[39m \u001b[38;5;241m==\u001b[39m \u001b[38;5;124m\"\u001b[39m\u001b[38;5;124m__main__\u001b[39m\u001b[38;5;124m\"\u001b[39m:\n\u001b[1;32m      2\u001b[0m     args \u001b[38;5;241m=\u001b[39m get_args()\n\u001b[0;32m----> 3\u001b[0m     model, stats \u001b[38;5;241m=\u001b[39m \u001b[43mtrain\u001b[49m\u001b[43m(\u001b[49m\u001b[43margs\u001b[49m\u001b[43m)\u001b[49m\n",
      "Cell \u001b[0;32mIn[3], line 47\u001b[0m, in \u001b[0;36mtrain\u001b[0;34m(args)\u001b[0m\n\u001b[1;32m     44\u001b[0m test_dxdt_hat \u001b[38;5;241m=\u001b[39m model\u001b[38;5;241m.\u001b[39mtime_derivative(test_x)\n\u001b[1;32m     45\u001b[0m test_dist \u001b[38;5;241m=\u001b[39m (test_dxdt \u001b[38;5;241m-\u001b[39m test_dxdt_hat)\u001b[38;5;241m*\u001b[39m\u001b[38;5;241m*\u001b[39m\u001b[38;5;241m2\u001b[39m\n\u001b[1;32m     46\u001b[0m \u001b[38;5;28mprint\u001b[39m(\u001b[38;5;124m'\u001b[39m\u001b[38;5;124mFinal train loss \u001b[39m\u001b[38;5;132;01m{:.4e}\u001b[39;00m\u001b[38;5;124m +/- \u001b[39m\u001b[38;5;132;01m{:.4e}\u001b[39;00m\u001b[38;5;130;01m\\n\u001b[39;00m\u001b[38;5;124mFinal test loss \u001b[39m\u001b[38;5;132;01m{:.4e}\u001b[39;00m\u001b[38;5;124m +/- \u001b[39m\u001b[38;5;132;01m{:.4e}\u001b[39;00m\u001b[38;5;124m'\u001b[39m\n\u001b[0;32m---> 47\u001b[0m   \u001b[38;5;241m.\u001b[39mformat(train_dist\u001b[38;5;241m.\u001b[39mmean()\u001b[38;5;241m.\u001b[39mitem(), train_dist\u001b[38;5;241m.\u001b[39mstd()\u001b[38;5;241m.\u001b[39mitem()\u001b[38;5;241m/\u001b[39m\u001b[43mnp\u001b[49m\u001b[38;5;241m.\u001b[39msqrt(train_dist\u001b[38;5;241m.\u001b[39mshape[\u001b[38;5;241m0\u001b[39m]),\n\u001b[1;32m     48\u001b[0m           test_dist\u001b[38;5;241m.\u001b[39mmean()\u001b[38;5;241m.\u001b[39mitem(), test_dist\u001b[38;5;241m.\u001b[39mstd()\u001b[38;5;241m.\u001b[39mitem()\u001b[38;5;241m/\u001b[39mnp\u001b[38;5;241m.\u001b[39msqrt(test_dist\u001b[38;5;241m.\u001b[39mshape[\u001b[38;5;241m0\u001b[39m])))\n\u001b[1;32m     50\u001b[0m \u001b[38;5;28;01mreturn\u001b[39;00m model, stats\n",
      "\u001b[0;31mNameError\u001b[0m: name 'np' is not defined"
     ]
    }
   ],
   "source": [
    "if __name__ == \"__main__\":\n",
    "    args = get_args()\n",
    "    model, stats = train(args)"
   ]
  }
 ],
 "metadata": {
  "kernelspec": {
   "display_name": "Python 3",
   "language": "python",
   "name": "python3"
  },
  "language_info": {
   "codemirror_mode": {
    "name": "ipython",
    "version": 3
   },
   "file_extension": ".py",
   "mimetype": "text/x-python",
   "name": "python",
   "nbconvert_exporter": "python",
   "pygments_lexer": "ipython3",
   "version": "3.11.4"
  }
 },
 "nbformat": 4,
 "nbformat_minor": 2
}
