{
 "cells": [
  {
   "cell_type": "code",
   "execution_count": 1,
   "metadata": {},
   "outputs": [],
   "source": [
    "from IPython.display import HTML\n",
    "import matplotlib.pyplot as plt\n",
    "import torch\n",
    "import sys  \n",
    "import os\n",
    "sys.path.insert(0, '../../..')\n",
    "\n",
    "from hnn.simulation.mve_ensemble import MveEnsembleMechanics\n",
    "from hnn.simulation.mve_ensemble.viz import visualize_trajectory, plot_energy\n",
    "from hnn.simulation.mve_ensemble.mve_ensemble import calc_kinetic_energy, get_initial_conditions\n",
    "from hnn.train import train\n"
   ]
  },
  {
   "cell_type": "code",
   "execution_count": 2,
   "metadata": {},
   "outputs": [],
   "source": [
    "import argparse\n",
    "\n",
    "def get_args():\n",
    "    parser = argparse.ArgumentParser(allow_abbrev=False)\n",
    "    parser.add_argument('--device', default=\"cpu\", type=str, help=\"device to run on\")\n",
    "    parser.add_argument('--batch_size', default=1000, type=int, help='batch size')\n",
    "    parser.add_argument('--hidden_dim', default=300, type=int, help='hidden dimension of mlp')\n",
    "    parser.add_argument('--learn_rate', default=1e-3, type=float, help='learning rate')\n",
    "    parser.add_argument('--weight_decay', default=1e-5, type=float, help='weight decay')\n",
    "    parser.add_argument('--total_steps', default=3000, type=int, help='number of gradient steps')\n",
    "    parser.add_argument('--n_bodies', default=4, type=int, help='number of particles')\n",
    "    parser.add_argument('--n_dims', default=3, type=int, help='number of dimensions')\n",
    "    parser.add_argument('--field_type', default='both', type=str, help='type of vector field to learn') # solenoidal, conservative\n",
    "    parser.set_defaults(feature=True)\n",
    "    return parser.parse_known_args()[0]\n",
    "\n",
    "args = get_args()\n",
    "torch.set_default_device(args.device)"
   ]
  },
  {
   "cell_type": "code",
   "execution_count": 3,
   "metadata": {},
   "outputs": [],
   "source": [
    "mechanics = MveEnsembleMechanics()"
   ]
  },
  {
   "cell_type": "code",
   "execution_count": 4,
   "metadata": {},
   "outputs": [],
   "source": [
    "def plot_energy_from_coords(r, v, time):\n",
    "    pe = mechanics.no_bc_potential_fn(r.transpose(0, 1)).detach().cpu()\n",
    "    ke = calc_kinetic_energy(v.transpose(0, 1), masses).detach().cpu()\n",
    "    te = pe + ke\n",
    "\n",
    "    plot_energy(pe, ke, te, time.cpu())"
   ]
  },
  {
   "cell_type": "code",
   "execution_count": 6,
   "metadata": {},
   "outputs": [
    {
     "ename": "TypeError",
     "evalue": "Cannot convert a MPS Tensor to float64 dtype as the MPS framework doesn't support float64. Please use float32 instead.",
     "output_type": "error",
     "traceback": [
      "\u001b[0;31m---------------------------------------------------------------------------\u001b[0m",
      "\u001b[0;31mTypeError\u001b[0m                                 Traceback (most recent call last)",
      "Cell \u001b[0;32mIn[6], line 3\u001b[0m\n\u001b[1;32m      1\u001b[0m y0, masses \u001b[38;5;241m=\u001b[39m get_initial_conditions(args\u001b[38;5;241m.\u001b[39mn_bodies, args\u001b[38;5;241m.\u001b[39mn_dims)\n\u001b[0;32m----> 3\u001b[0m r, v, dr, dv, time \u001b[38;5;241m=\u001b[39m \u001b[43mmechanics\u001b[49m\u001b[38;5;241;43m.\u001b[39;49m\u001b[43mget_trajectory\u001b[49m\u001b[43m(\u001b[49m\u001b[43m{\u001b[49m\u001b[43m \u001b[49m\u001b[38;5;124;43m\"\u001b[39;49m\u001b[38;5;124;43my0\u001b[39;49m\u001b[38;5;124;43m\"\u001b[39;49m\u001b[43m:\u001b[49m\u001b[43m \u001b[49m\u001b[43my0\u001b[49m\u001b[43m,\u001b[49m\u001b[43m \u001b[49m\u001b[38;5;124;43m\"\u001b[39;49m\u001b[38;5;124;43mmasses\u001b[39;49m\u001b[38;5;124;43m\"\u001b[39;49m\u001b[43m:\u001b[49m\u001b[43m \u001b[49m\u001b[43mmasses\u001b[49m\u001b[43m \u001b[49m\u001b[43m}\u001b[49m\u001b[43m)\u001b[49m\u001b[38;5;241m.\u001b[39mdict()\u001b[38;5;241m.\u001b[39mvalues()\n\u001b[1;32m      4\u001b[0m plot_energy_from_coords(r, v, time)\n\u001b[1;32m      5\u001b[0m ani \u001b[38;5;241m=\u001b[39m visualize_trajectory(r\u001b[38;5;241m.\u001b[39mtranspose(\u001b[38;5;241m0\u001b[39m, \u001b[38;5;241m1\u001b[39m)\u001b[38;5;241m.\u001b[39mdetach()\u001b[38;5;241m.\u001b[39mcpu(), \u001b[38;5;28mlen\u001b[39m(time), mechanics\u001b[38;5;241m.\u001b[39mdomain)\n",
      "File \u001b[0;32m~/.pyenv/versions/3.12.3/lib/python3.12/site-packages/multimethod/__init__.py:426\u001b[0m, in \u001b[0;36mmultidispatch.__call__\u001b[0;34m(self, *args, **kwargs)\u001b[0m\n\u001b[1;32m    424\u001b[0m params \u001b[38;5;241m=\u001b[39m \u001b[38;5;28mself\u001b[39m\u001b[38;5;241m.\u001b[39msignature\u001b[38;5;241m.\u001b[39mbind(\u001b[38;5;241m*\u001b[39margs, \u001b[38;5;241m*\u001b[39m\u001b[38;5;241m*\u001b[39mkwargs)\u001b[38;5;241m.\u001b[39margs \u001b[38;5;28;01mif\u001b[39;00m (kwargs \u001b[38;5;129;01mand\u001b[39;00m \u001b[38;5;28mself\u001b[39m\u001b[38;5;241m.\u001b[39msignature) \u001b[38;5;28;01melse\u001b[39;00m args\n\u001b[1;32m    425\u001b[0m func \u001b[38;5;241m=\u001b[39m \u001b[38;5;28mself\u001b[39m\u001b[38;5;241m.\u001b[39mdispatch(\u001b[38;5;241m*\u001b[39mparams)\n\u001b[0;32m--> 426\u001b[0m \u001b[38;5;28;01mreturn\u001b[39;00m \u001b[43mfunc\u001b[49m\u001b[43m(\u001b[49m\u001b[38;5;241;43m*\u001b[39;49m\u001b[43margs\u001b[49m\u001b[43m,\u001b[49m\u001b[43m \u001b[49m\u001b[38;5;241;43m*\u001b[39;49m\u001b[38;5;241;43m*\u001b[39;49m\u001b[43mkwargs\u001b[49m\u001b[43m)\u001b[49m\n",
      "File \u001b[0;32m~/development/pinns/src/hnn/simulation/mve_ensemble/../../../hnn/mechanics/base_mechanics.py:93\u001b[0m, in \u001b[0;36mMechanics._\u001b[0;34m(self, args)\u001b[0m\n\u001b[1;32m     90\u001b[0m \u001b[38;5;129m@overload\u001b[39m\n\u001b[1;32m     91\u001b[0m \u001b[38;5;129m@get_trajectory\u001b[39m\u001b[38;5;241m.\u001b[39mregister\n\u001b[1;32m     92\u001b[0m \u001b[38;5;28;01mdef\u001b[39;00m \u001b[38;5;21m_\u001b[39m(\u001b[38;5;28mself\u001b[39m, args: \u001b[38;5;28mdict\u001b[39m \u001b[38;5;241m=\u001b[39m {}) \u001b[38;5;241m-\u001b[39m\u001b[38;5;241m>\u001b[39m Trajectory:\n\u001b[0;32m---> 93\u001b[0m     \u001b[38;5;28;01mreturn\u001b[39;00m \u001b[38;5;28;43mself\u001b[39;49m\u001b[38;5;241;43m.\u001b[39;49m\u001b[43mget_trajectory\u001b[49m\u001b[43m(\u001b[49m\u001b[43mTrajectoryArgs\u001b[49m\u001b[43m(\u001b[49m\u001b[38;5;241;43m*\u001b[39;49m\u001b[38;5;241;43m*\u001b[39;49m\u001b[43margs\u001b[49m\u001b[43m)\u001b[49m\u001b[43m)\u001b[49m\n",
      "File \u001b[0;32m~/.pyenv/versions/3.12.3/lib/python3.12/site-packages/multimethod/__init__.py:426\u001b[0m, in \u001b[0;36mmultidispatch.__call__\u001b[0;34m(self, *args, **kwargs)\u001b[0m\n\u001b[1;32m    424\u001b[0m params \u001b[38;5;241m=\u001b[39m \u001b[38;5;28mself\u001b[39m\u001b[38;5;241m.\u001b[39msignature\u001b[38;5;241m.\u001b[39mbind(\u001b[38;5;241m*\u001b[39margs, \u001b[38;5;241m*\u001b[39m\u001b[38;5;241m*\u001b[39mkwargs)\u001b[38;5;241m.\u001b[39margs \u001b[38;5;28;01mif\u001b[39;00m (kwargs \u001b[38;5;129;01mand\u001b[39;00m \u001b[38;5;28mself\u001b[39m\u001b[38;5;241m.\u001b[39msignature) \u001b[38;5;28;01melse\u001b[39;00m args\n\u001b[1;32m    425\u001b[0m func \u001b[38;5;241m=\u001b[39m \u001b[38;5;28mself\u001b[39m\u001b[38;5;241m.\u001b[39mdispatch(\u001b[38;5;241m*\u001b[39mparams)\n\u001b[0;32m--> 426\u001b[0m \u001b[38;5;28;01mreturn\u001b[39;00m \u001b[43mfunc\u001b[49m\u001b[43m(\u001b[49m\u001b[38;5;241;43m*\u001b[39;49m\u001b[43margs\u001b[49m\u001b[43m,\u001b[49m\u001b[43m \u001b[49m\u001b[38;5;241;43m*\u001b[39;49m\u001b[38;5;241;43m*\u001b[39;49m\u001b[43mkwargs\u001b[49m\u001b[43m)\u001b[49m\n",
      "File \u001b[0;32m~/development/pinns/src/hnn/simulation/mve_ensemble/../../../hnn/mechanics/base_mechanics.py:115\u001b[0m, in \u001b[0;36mMechanics._\u001b[0;34m(self, args)\u001b[0m\n\u001b[1;32m    108\u001b[0m dynamics_fn \u001b[38;5;241m=\u001b[39m partial(\n\u001b[1;32m    109\u001b[0m     \u001b[38;5;28mself\u001b[39m\u001b[38;5;241m.\u001b[39mdynamics_fn,\n\u001b[1;32m    110\u001b[0m     model\u001b[38;5;241m=\u001b[39margs\u001b[38;5;241m.\u001b[39mmodel,\n\u001b[1;32m    111\u001b[0m     function_args\u001b[38;5;241m=\u001b[39m{\u001b[38;5;124m\"\u001b[39m\u001b[38;5;124mmasses\u001b[39m\u001b[38;5;124m\"\u001b[39m: args\u001b[38;5;241m.\u001b[39mmasses},\n\u001b[1;32m    112\u001b[0m )\n\u001b[1;32m    114\u001b[0m t \u001b[38;5;241m=\u001b[39m get_timepoints(\u001b[38;5;28mself\u001b[39m\u001b[38;5;241m.\u001b[39mt_span, time_scale)\n\u001b[0;32m--> 115\u001b[0m ivp \u001b[38;5;241m=\u001b[39m \u001b[43modeint\u001b[49m\u001b[43m(\u001b[49m\n\u001b[1;32m    116\u001b[0m \u001b[43m    \u001b[49m\u001b[43mdynamics_fn\u001b[49m\u001b[43m,\u001b[49m\n\u001b[1;32m    117\u001b[0m \u001b[43m    \u001b[49m\u001b[43my0\u001b[49m\u001b[38;5;241;43m=\u001b[39;49m\u001b[43my0\u001b[49m\u001b[43m,\u001b[49m\n\u001b[1;32m    118\u001b[0m \u001b[43m    \u001b[49m\u001b[43mt\u001b[49m\u001b[38;5;241;43m=\u001b[39;49m\u001b[43mt\u001b[49m\u001b[43m,\u001b[49m\n\u001b[1;32m    119\u001b[0m \u001b[43m    \u001b[49m\u001b[43mrtol\u001b[49m\u001b[38;5;241;43m=\u001b[39;49m\u001b[38;5;241;43m1e-10\u001b[39;49m\u001b[43m,\u001b[49m\n\u001b[1;32m    120\u001b[0m \u001b[43m    \u001b[49m\u001b[43matol\u001b[49m\u001b[38;5;241;43m=\u001b[39;49m\u001b[38;5;241;43m1e-9\u001b[39;49m\u001b[43m,\u001b[49m\n\u001b[1;32m    121\u001b[0m \u001b[43m\u001b[49m\u001b[43m)\u001b[49m\n\u001b[1;32m    122\u001b[0m \u001b[38;5;66;03m# ivp = odeint(\u001b[39;00m\n\u001b[1;32m    123\u001b[0m \u001b[38;5;66;03m#     f=dynamics_fn,\u001b[39;00m\n\u001b[1;32m    124\u001b[0m \u001b[38;5;66;03m#     x=y0,\u001b[39;00m\n\u001b[0;32m   (...)\u001b[0m\n\u001b[1;32m    131\u001b[0m \n\u001b[1;32m    132\u001b[0m \u001b[38;5;66;03m# -> time_scale*t_span[1] x n_bodies x 2 x n_dims\u001b[39;00m\n\u001b[1;32m    133\u001b[0m dsdt \u001b[38;5;241m=\u001b[39m torch\u001b[38;5;241m.\u001b[39mstack([dynamics_fn(\u001b[38;5;28;01mNone\u001b[39;00m, dp) \u001b[38;5;28;01mfor\u001b[39;00m dp \u001b[38;5;129;01min\u001b[39;00m ivp])\n",
      "File \u001b[0;32m~/.pyenv/versions/3.12.3/lib/python3.12/site-packages/torchdiffeq/_impl/odeint.py:74\u001b[0m, in \u001b[0;36modeint\u001b[0;34m(func, y0, t, rtol, atol, method, options, event_fn)\u001b[0m\n\u001b[1;32m     32\u001b[0m \u001b[38;5;250m\u001b[39m\u001b[38;5;124;03m\"\"\"Integrate a system of ordinary differential equations.\u001b[39;00m\n\u001b[1;32m     33\u001b[0m \n\u001b[1;32m     34\u001b[0m \u001b[38;5;124;03mSolves the initial value problem for a non-stiff system of first order ODEs:\u001b[39;00m\n\u001b[0;32m   (...)\u001b[0m\n\u001b[1;32m     69\u001b[0m \u001b[38;5;124;03m    ValueError: if an invalid `method` is provided.\u001b[39;00m\n\u001b[1;32m     70\u001b[0m \u001b[38;5;124;03m\"\"\"\u001b[39;00m\n\u001b[1;32m     72\u001b[0m shapes, func, y0, t, rtol, atol, method, options, event_fn, t_is_reversed \u001b[38;5;241m=\u001b[39m _check_inputs(func, y0, t, rtol, atol, method, options, event_fn, SOLVERS)\n\u001b[0;32m---> 74\u001b[0m solver \u001b[38;5;241m=\u001b[39m \u001b[43mSOLVERS\u001b[49m\u001b[43m[\u001b[49m\u001b[43mmethod\u001b[49m\u001b[43m]\u001b[49m\u001b[43m(\u001b[49m\u001b[43mfunc\u001b[49m\u001b[38;5;241;43m=\u001b[39;49m\u001b[43mfunc\u001b[49m\u001b[43m,\u001b[49m\u001b[43m \u001b[49m\u001b[43my0\u001b[49m\u001b[38;5;241;43m=\u001b[39;49m\u001b[43my0\u001b[49m\u001b[43m,\u001b[49m\u001b[43m \u001b[49m\u001b[43mrtol\u001b[49m\u001b[38;5;241;43m=\u001b[39;49m\u001b[43mrtol\u001b[49m\u001b[43m,\u001b[49m\u001b[43m \u001b[49m\u001b[43matol\u001b[49m\u001b[38;5;241;43m=\u001b[39;49m\u001b[43matol\u001b[49m\u001b[43m,\u001b[49m\u001b[43m \u001b[49m\u001b[38;5;241;43m*\u001b[39;49m\u001b[38;5;241;43m*\u001b[39;49m\u001b[43moptions\u001b[49m\u001b[43m)\u001b[49m\n\u001b[1;32m     76\u001b[0m \u001b[38;5;28;01mif\u001b[39;00m event_fn \u001b[38;5;129;01mis\u001b[39;00m \u001b[38;5;28;01mNone\u001b[39;00m:\n\u001b[1;32m     77\u001b[0m     solution \u001b[38;5;241m=\u001b[39m solver\u001b[38;5;241m.\u001b[39mintegrate(t)\n",
      "File \u001b[0;32m~/.pyenv/versions/3.12.3/lib/python3.12/site-packages/torchdiffeq/_impl/rk_common.py:140\u001b[0m, in \u001b[0;36mRKAdaptiveStepsizeODESolver.__init__\u001b[0;34m(self, func, y0, rtol, atol, first_step, step_t, jump_t, safety, ifactor, dfactor, max_num_steps, dtype, **kwargs)\u001b[0m\n\u001b[1;32m    137\u001b[0m device \u001b[38;5;241m=\u001b[39m y0\u001b[38;5;241m.\u001b[39mdevice\n\u001b[1;32m    139\u001b[0m \u001b[38;5;28mself\u001b[39m\u001b[38;5;241m.\u001b[39mfunc \u001b[38;5;241m=\u001b[39m func\n\u001b[0;32m--> 140\u001b[0m \u001b[38;5;28mself\u001b[39m\u001b[38;5;241m.\u001b[39mrtol \u001b[38;5;241m=\u001b[39m \u001b[43mtorch\u001b[49m\u001b[38;5;241;43m.\u001b[39;49m\u001b[43mas_tensor\u001b[49m\u001b[43m(\u001b[49m\u001b[43mrtol\u001b[49m\u001b[43m,\u001b[49m\u001b[43m \u001b[49m\u001b[43mdtype\u001b[49m\u001b[38;5;241;43m=\u001b[39;49m\u001b[43mdtype\u001b[49m\u001b[43m,\u001b[49m\u001b[43m \u001b[49m\u001b[43mdevice\u001b[49m\u001b[38;5;241;43m=\u001b[39;49m\u001b[43mdevice\u001b[49m\u001b[43m)\u001b[49m\n\u001b[1;32m    141\u001b[0m \u001b[38;5;28mself\u001b[39m\u001b[38;5;241m.\u001b[39matol \u001b[38;5;241m=\u001b[39m torch\u001b[38;5;241m.\u001b[39mas_tensor(atol, dtype\u001b[38;5;241m=\u001b[39mdtype, device\u001b[38;5;241m=\u001b[39mdevice)\n\u001b[1;32m    142\u001b[0m \u001b[38;5;28mself\u001b[39m\u001b[38;5;241m.\u001b[39mfirst_step \u001b[38;5;241m=\u001b[39m \u001b[38;5;28;01mNone\u001b[39;00m \u001b[38;5;28;01mif\u001b[39;00m first_step \u001b[38;5;129;01mis\u001b[39;00m \u001b[38;5;28;01mNone\u001b[39;00m \u001b[38;5;28;01melse\u001b[39;00m torch\u001b[38;5;241m.\u001b[39mas_tensor(first_step, dtype\u001b[38;5;241m=\u001b[39mdtype, device\u001b[38;5;241m=\u001b[39mdevice)\n",
      "File \u001b[0;32m~/.pyenv/versions/3.12.3/lib/python3.12/site-packages/torch/utils/_device.py:78\u001b[0m, in \u001b[0;36mDeviceContext.__torch_function__\u001b[0;34m(self, func, types, args, kwargs)\u001b[0m\n\u001b[1;32m     76\u001b[0m \u001b[38;5;28;01mif\u001b[39;00m func \u001b[38;5;129;01min\u001b[39;00m _device_constructors() \u001b[38;5;129;01mand\u001b[39;00m kwargs\u001b[38;5;241m.\u001b[39mget(\u001b[38;5;124m'\u001b[39m\u001b[38;5;124mdevice\u001b[39m\u001b[38;5;124m'\u001b[39m) \u001b[38;5;129;01mis\u001b[39;00m \u001b[38;5;28;01mNone\u001b[39;00m:\n\u001b[1;32m     77\u001b[0m     kwargs[\u001b[38;5;124m'\u001b[39m\u001b[38;5;124mdevice\u001b[39m\u001b[38;5;124m'\u001b[39m] \u001b[38;5;241m=\u001b[39m \u001b[38;5;28mself\u001b[39m\u001b[38;5;241m.\u001b[39mdevice\n\u001b[0;32m---> 78\u001b[0m \u001b[38;5;28;01mreturn\u001b[39;00m \u001b[43mfunc\u001b[49m\u001b[43m(\u001b[49m\u001b[38;5;241;43m*\u001b[39;49m\u001b[43margs\u001b[49m\u001b[43m,\u001b[49m\u001b[43m \u001b[49m\u001b[38;5;241;43m*\u001b[39;49m\u001b[38;5;241;43m*\u001b[39;49m\u001b[43mkwargs\u001b[49m\u001b[43m)\u001b[49m\n",
      "\u001b[0;31mTypeError\u001b[0m: Cannot convert a MPS Tensor to float64 dtype as the MPS framework doesn't support float64. Please use float32 instead."
     ]
    }
   ],
   "source": [
    "y0, masses = get_initial_conditions(args.n_bodies, args.n_dims)\n",
    "\n",
    "r, v, dr, dv, time = mechanics.get_trajectory({ \"y0\": y0, \"masses\": masses }).dict().values()\n",
    "plot_energy_from_coords(r, v, time)\n",
    "ani = visualize_trajectory(r.transpose(0, 1).detach().cpu(), len(time), mechanics.domain)\n",
    "HTML(ani.to_jshtml())"
   ]
  },
  {
   "cell_type": "code",
   "execution_count": null,
   "metadata": {},
   "outputs": [],
   "source": [
    "# load data\n",
    "import os, pickle\n",
    "pickle_path = 'mve_ensemble_data.pkl'\n",
    "\n",
    "if os.path.exists(pickle_path):\n",
    "    print(f\"Loading data from {pickle_path}\")\n",
    "    with open(pickle_path, 'rb') as file:\n",
    "        data = pickle.loads(file.read())\n",
    "else:\n",
    "    print(\"Creating data...\")\n",
    "    data = mechanics.get_dataset({}, { \"y0\": y0, \"masses\": masses })\n",
    "    print(f\"Saving data to {pickle_path}\")\n",
    "    with open(pickle_path, 'wb') as file:\n",
    "        pickle.dump(data, file)"
   ]
  },
  {
   "cell_type": "code",
   "execution_count": null,
   "metadata": {},
   "outputs": [],
   "source": [
    "# check data\n",
    "data_r, data_v = [v.squeeze(-2) for v in torch.split(data[\"x\"][0], 1, dim=-2)]\n",
    "plot_energy_from_coords(data_r, data_v, data[\"time\"])\n",
    "ani = visualize_trajectory(data_r.transpose(0, 1), len(data[\"time\"]), mechanics.domain)\n",
    "HTML(ani.to_jshtml())"
   ]
  },
  {
   "cell_type": "code",
   "execution_count": null,
   "metadata": {},
   "outputs": [],
   "source": [
    "# train model\n",
    "model, stats = train(args, data)"
   ]
  },
  {
   "cell_type": "code",
   "execution_count": null,
   "metadata": {},
   "outputs": [],
   "source": [
    "fig_e, ax_e = plt.subplots(figsize=[10, 4], dpi=100)\n",
    "plt.title(\"Loss\")\n",
    "plt.xlabel(\"time\")\n",
    "plt.plot(stats[\"train_loss\"], label=\"train_loss\")\n",
    "plt.plot(stats[\"test_loss\"], label=\"test_loss\")\n",
    "plt.legend(fontsize=8)\n",
    "\n",
    "fig_e, ax_e = plt.subplots(figsize=[10, 4], dpi=100)\n",
    "plt.title(\"Zoomed-in final loss\")\n",
    "plt.xlabel(\"time\")\n",
    "plt.plot(stats[\"train_loss\"][-500:], label=\"train_loss\")\n",
    "plt.plot(stats[\"test_loss\"][-500:], label=\"test_loss\")\n",
    "plt.legend(fontsize=8)\n"
   ]
  },
  {
   "cell_type": "code",
   "execution_count": null,
   "metadata": {},
   "outputs": [],
   "source": [
    "# plot model output\n",
    "\n",
    "test_y0, test_masses = get_initial_conditions(args.n_bodies, args.n_dims)\n",
    "initial_state = test_y0.clone().detach().requires_grad_()\n",
    "r, v, dr, dv, time = mechanics.get_trajectory({\"y0\": initial_state, \"masses\": test_masses, \"model\": model}).dict().values()\n",
    "plot_energy_from_coords(r, v, time)\n",
    "\n",
    "ani_model = visualize_trajectory(r.transpose(0, 1), len(time), mechanics.domain)\n",
    "HTML(ani_model.to_jshtml())"
   ]
  }
 ],
 "metadata": {
  "kernelspec": {
   "display_name": "Python 3",
   "language": "python",
   "name": "python3"
  },
  "language_info": {
   "codemirror_mode": {
    "name": "ipython",
    "version": 3
   },
   "file_extension": ".py",
   "mimetype": "text/x-python",
   "name": "python",
   "nbconvert_exporter": "python",
   "pygments_lexer": "ipython3",
   "version": "3.12.3"
  }
 },
 "nbformat": 4,
 "nbformat_minor": 2
}
