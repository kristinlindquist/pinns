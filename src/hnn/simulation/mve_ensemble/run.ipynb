{
 "cells": [
  {
   "cell_type": "code",
   "execution_count": null,
   "metadata": {},
   "outputs": [],
   "source": [
    "import matplotlib.pyplot as plt\n",
    "import scipy.integrate\n",
    "import torch\n",
    "import sys  \n",
    "sys.path.insert(0, '../../..')\n",
    "\n",
    "from hnn.simulation.mve_ensemble import MveEnsembleHamiltonianDynamics\n",
    "from hnn.utils import integrate_model\n",
    "from hnn.train import train\n",
    "from hnn.types import TrajectoryArgs"
   ]
  },
  {
   "cell_type": "code",
   "execution_count": null,
   "metadata": {},
   "outputs": [],
   "source": [
    "import argparse\n",
    "\n",
    "def get_args():\n",
    "    parser = argparse.ArgumentParser(allow_abbrev=False)\n",
    "    parser.add_argument('--input_dim', default=2, type=int, help='dimensionality of input tensor')\n",
    "    parser.add_argument('--hidden_dim', default=300, type=int, help='hidden dimension of mlp')\n",
    "    parser.add_argument('--learn_rate', default=1e-3, type=float, help='learning rate')\n",
    "    parser.add_argument('--weight_decay', default=1e-4, type=float, help='weight decay')\n",
    "    parser.add_argument('--total_steps', default=1000, type=int, help='number of gradient steps')\n",
    "    parser.add_argument('--field_type', default='conservative', type=str, help='type of vector field to learn') # solenoidal, conservative\n",
    "    parser.set_defaults(feature=True)\n",
    "    return parser.parse_known_args()[0]"
   ]
  },
  {
   "cell_type": "code",
   "execution_count": null,
   "metadata": {},
   "outputs": [],
   "source": [
    "# Test the MVE ensemble Hamiltonian function\n",
    "\n",
    "from hnn.simulation.mve_ensemble.mve_ensemble import mve_ensemble_fn, get_initial_conditions\n",
    "\n",
    "coords, masses = get_initial_conditions(4)\n",
    "\n",
    "# Hamiltonian for the ensemble\n",
    "H = mve_ensemble_fn(coords, masses)\n",
    "print(\"Hamiltonian (Total Energy):\", H.item())"
   ]
  },
  {
   "cell_type": "code",
   "execution_count": null,
   "metadata": {},
   "outputs": [],
   "source": [
    "hamiltonian = MveEnsembleHamiltonianDynamics()\n",
    "xy, v, dq, dp, t = hamiltonian.get_trajectory({})\n",
    "positions = xy.transpose(0, 1)\n",
    "velocities = v.transpose(0, 1)\n",
    "time = t\n",
    "timepoints = len(time)"
   ]
  },
  {
   "cell_type": "code",
   "execution_count": null,
   "metadata": {},
   "outputs": [],
   "source": [
    "from matplotlib.animation import FuncAnimation\n",
    "\n",
    "# Setup the figure and axes\n",
    "fig, ax = plt.subplots(figsize=[10, 4], dpi=100)\n",
    "ax.set_title('Trajectories')\n",
    "lines = []\n",
    "for i in range(positions.shape[0]):\n",
    "    line, = ax.plot([], [], label='body {} path'.format(i))\n",
    "    lines.append(line)\n",
    "\n",
    "ax.axis('equal')\n",
    "ax.set_xlim(torch.min(positions[:,:,0]), torch.max(positions[:,:,0]))\n",
    "ax.set_ylim(torch.min(positions[:,:,1]), torch.max(positions[:,:,1]))\n",
    "ax.set_xlabel('$x$')\n",
    "ax.set_ylabel('$y$')\n",
    "ax.legend(fontsize=8)\n",
    "\n",
    "def init():\n",
    "    for line in lines:\n",
    "        line.set_data([], [])\n",
    "    return lines\n",
    "\n",
    "def update(frame):\n",
    "    for i, line in enumerate(lines):\n",
    "        x, y = positions[i, :frame, 0], positions[i, :frame, 1]\n",
    "        line.set_data(x, y)\n",
    "    return lines\n",
    "\n",
    "ani = FuncAnimation(fig, update, frames=torch.arange(1, timepoints+1), init_func=init, blit=True, repeat=True)\n",
    "\n",
    "from IPython.display import HTML\n",
    "HTML(ani.to_jshtml())"
   ]
  },
  {
   "cell_type": "code",
   "execution_count": null,
   "metadata": {},
   "outputs": [],
   "source": [
    "from hnn.simulation.mve_ensemble.mve_ensemble import calc_lennard_jones_potential, calc_kinetic_energy\n",
    "ljp = calc_lennard_jones_potential(positions)\n",
    "masses = torch.ones(5)\n",
    "ke = calc_kinetic_energy(velocities, masses)\n",
    "te = ljp + ke\n",
    "\n",
    "print(\"Potential Energy:\", ljp)\n",
    "\n",
    "p2 = plt.subplot(1,2,2)\n",
    "plt.title('Energy') ; plt.xlabel('time')\n",
    "p2.set_yscale('symlog')\n",
    "plt.plot(time, ljp, label='potential')\n",
    "plt.plot(time, ke, label='kinetic')\n",
    "plt.plot(time, te, label='total')\n",
    "plt.legend(fontsize=8)\n"
   ]
  },
  {
   "cell_type": "code",
   "execution_count": 7,
   "metadata": {},
   "outputs": [],
   "source": [
    "args = get_args()\n",
    "\n",
    "data = hamiltonian.get_dataset({}, {})\n",
    "model, stats = train(args, data)"
   ]
  }
 ],
 "metadata": {
  "kernelspec": {
   "display_name": "Python 3",
   "language": "python",
   "name": "python3"
  },
  "language_info": {
   "codemirror_mode": {
    "name": "ipython",
    "version": 3
   },
   "file_extension": ".py",
   "mimetype": "text/x-python",
   "name": "python",
   "nbconvert_exporter": "python",
   "pygments_lexer": "ipython3",
   "version": "3.11.4"
  }
 },
 "nbformat": 4,
 "nbformat_minor": 2
}
