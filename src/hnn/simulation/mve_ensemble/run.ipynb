{
 "cells": [
  {
   "cell_type": "code",
   "execution_count": 1,
   "metadata": {},
   "outputs": [],
   "source": [
    "import matplotlib.pyplot as plt\n",
    "import scipy.integrate\n",
    "import torch\n",
    "import sys  \n",
    "sys.path.insert(0, '../../..')\n",
    "\n",
    "from hnn.simulation.mve_ensemble import MveEnsembleHamiltonianDynamics\n",
    "from hnn.utils import integrate_model\n",
    "from hnn.train import train\n",
    "from hnn.types import TrajectoryArgs"
   ]
  },
  {
   "cell_type": "code",
   "execution_count": 2,
   "metadata": {},
   "outputs": [],
   "source": [
    "import argparse\n",
    "\n",
    "def get_args():\n",
    "    parser = argparse.ArgumentParser(allow_abbrev=False)\n",
    "    parser.add_argument('--input_dim', default=2, type=int, help='dimensionality of input tensor')\n",
    "    parser.add_argument('--hidden_dim', default=200, type=int, help='hidden dimension of mlp')\n",
    "    parser.add_argument('--learn_rate', default=1e-3, type=float, help='learning rate')\n",
    "    parser.add_argument('--weight_decay', default=1e-4, type=float, help='weight decay')\n",
    "    parser.add_argument('--total_steps', default=20, type=int, help='number of gradient steps')\n",
    "    parser.add_argument('--field_type', default='conservative', type=str, help='type of vector field to learn') # solenoidal, conservative\n",
    "    parser.set_defaults(feature=True)\n",
    "    return parser.parse_known_args()[0]"
   ]
  },
  {
   "cell_type": "code",
   "execution_count": 4,
   "metadata": {},
   "outputs": [
    {
     "name": "stdout",
     "output_type": "stream",
     "text": [
      "COODS1 torch.Size([6, 2, 2])\n",
      "Coordinates: torch.Size([10, 2, 2])\n",
      "Kinetic Energy:  tensor(5.9951)\n",
      "Potential Energy:  tensor(-0.0032)\n",
      "Hamiltonian (Total Energy): 5.991880416870117\n"
     ]
    }
   ],
   "source": [
    "# Test the MVE ensemble Hamiltonian function\n",
    "\n",
    "from hnn.simulation.mve_ensemble.mve_ensemble import mve_ensemble_fn, get_default_y0, get_default_masses\n",
    "\n",
    "# Example coordinates and masses for three particles\n",
    "coords = torch.tensor([\n",
    "    [\n",
    "        [1.0, 0.5, 1.0, -1.0, -0.5, -1.0],\n",
    "        [-1.0, -0.5, -1.0, 1.0, 0.5, 1.0]\n",
    "    ],\n",
    "    [\n",
    "       [-0.1, 0.1, 0.3, 0.1, 0.4, -0.1],\n",
    "       [0.1, 0.4, -0.1, -0.1, 0.1, 0.3]\n",
    "    ],\n",
    "]).T\n",
    "print(\"COODS1\", coords.shape)\n",
    "coords = get_default_y0(10)\n",
    "print(\"Coordinates:\", coords.shape)\n",
    "masses = get_default_masses(10)\n",
    "\n",
    "# Hamiltonian for the ensemble\n",
    "H = mve_ensemble_fn(coords, masses)\n",
    "print(\"Hamiltonian (Total Energy):\", H.item())"
   ]
  },
  {
   "cell_type": "code",
   "execution_count": null,
   "metadata": {},
   "outputs": [],
   "source": [
    "\n",
    "args = get_args()\n",
    "\n",
    "hamiltonian = MveEnsembleHamiltonianDynamics()\n",
    "data = hamiltonian.get_dataset({}, {})\n",
    "model, stats = train(args, data)"
   ]
  },
  {
   "cell_type": "code",
   "execution_count": null,
   "metadata": {},
   "outputs": [],
   "source": [
    "# orbit, settings = get_orbit(state, t_points=1000, t_span = [0, 5], rtol = 1e-9)\n",
    "x, y, dx, dy, t = hamiltonian.get_trajectory({})\n",
    "print(x.shape, y.shape, dx.shape, dy.shape, t.shape)"
   ]
  },
  {
   "cell_type": "code",
   "execution_count": null,
   "metadata": {},
   "outputs": [],
   "source": [
    "\n",
    "# from hnn.simulation.mve_ensemble.mve_ensemble import lennard_jones_potential\n",
    "\n",
    "orbits = torch.stack([x.T, y.T, dx.T, dy.T], dim=1)\n",
    "positions = torch.stack([x.T, y.T], dim=1)\n",
    "time = t.T\n",
    "\n",
    "# draw trajectories\n",
    "fig = plt.figure(figsize=[10,4], dpi=100)\n",
    "p1 = plt.subplot(1,2,1)\n",
    "plt.title('Trajectories')\n",
    "for i, orbit in enumerate(orbits):\n",
    "    plt.plot(orbit[1], orbit[2], label='body {} path'.format(i))\n",
    "\n",
    "plt.axis('equal')\n",
    "plt.xlabel('$x$') ; plt.ylabel('$y$')\n",
    "plt.legend(fontsize=8)\n",
    "\n",
    "p2 = plt.subplot(1,2,2)\n",
    "plt.title('Energy') ; plt.xlabel('time')\n",
    "p2.set_yscale('log')\n",
    "plt.plot(time, lennard_jones_potential(positions), label='potential')\n",
    "# plt.plot(settings['t_eval'], kinetic_energy(orbit), label='kinetic')\n",
    "# plt.plot(settings['t_eval'], total_energy(orbit), label='total')\n",
    "plt.legend()\n",
    "# plt.xlim(*settings['t_span'])"
   ]
  },
  {
   "cell_type": "code",
   "execution_count": null,
   "metadata": {},
   "outputs": [],
   "source": [
    "R = 2.5\n",
    "LINE_SEGMENTS = 10\n",
    "ARROW_SCALE = 40\n",
    "ARROW_WIDTH = 6e-3\n",
    "LINE_WIDTH = 2\n",
    "\n",
    "field_args = {\n",
    "    'xmin': -R,\n",
    "    'xmax': R,\n",
    "    'ymin': -R,\n",
    "    'ymax': R,\n",
    "    'gridsize': 10,\n",
    "}\n",
    "field = hamiltonian.get_field(field_args)\n",
    "vector_field = hamiltonian.get_vector_field(model, field_args)"
   ]
  },
  {
   "cell_type": "code",
   "execution_count": null,
   "metadata": {},
   "outputs": [],
   "source": [
    "\n",
    "from hnn.simulation.mve_ensemble.mve_ensemble import DEFAULT_TRAJECTORY_ARGS, DEFAULT_ODE_ARGS\n",
    "\n",
    "ivp = integrate_model(\n",
    "        model,\n",
    "        t_span=DEFAULT_TRAJECTORY_ARGS['t_span'],\n",
    "        y0=DEFAULT_ODE_ARGS['y0'],\n",
    "        timescale=30,\n",
    "        rtol=1e-12\n",
    ")"
   ]
  },
  {
   "cell_type": "markdown",
   "metadata": {},
   "source": []
  },
  {
   "cell_type": "code",
   "execution_count": null,
   "metadata": {},
   "outputs": [],
   "source": [
    "fig = plt.figure(figsize=(11.3, 3.2), facecolor='white', dpi=300)\n",
    "\n",
    "# plot data\n",
    "fig.add_subplot(1, 4, 1, frameon=True)\n",
    "x, y, dx, dy, t = hamiltonian.get_trajectory({})\n",
    "N = x.shape[0] * 10\n",
    "point_colors = [(i/N, 0, 1-i/N) for i in range(N)]\n",
    "# torch.Size([33, 10])\n",
    "plt.scatter(x, y, s=14, label='data', c=point_colors)\n",
    "plt.quiver(\n",
    "        field.x[:,0],\n",
    "        field.x[:,1],\n",
    "        field.dx[:,0],\n",
    "        field.dx[:,1],\n",
    "        cmap='gray_r',\n",
    "        scale=ARROW_SCALE,\n",
    "        width=ARROW_WIDTH,\n",
    "        color=(.2,.2,.2)\n",
    ")  \n",
    "plt.xlabel(\"$q$\", fontsize=14)\n",
    "plt.ylabel(\"$p$\", rotation=0, fontsize=14)\n",
    "plt.title(\"Data\", pad=10)\n",
    "\n",
    "print(field.x.shape, vector_field.shape)\n",
    "\n",
    "# plot HNN-modeled data\n",
    "fig.add_subplot(1, 4, 2, frameon=True)\n",
    "plt.quiver(\n",
    "        field.x[:,0],\n",
    "        field.x[:,1],\n",
    "        vector_field[:,0],\n",
    "        vector_field[:,1],\n",
    "        cmap='gray_r',\n",
    "        scale=ARROW_SCALE,\n",
    "        width=ARROW_WIDTH,\n",
    "        color=(.5,.5,.5)\n",
    ")\n",
    "\n",
    "for i, l in enumerate(torch.tensor_split(ivp, LINE_SEGMENTS)):\n",
    "        color = (float(i)/LINE_SEGMENTS, 0, 1-float(i)/LINE_SEGMENTS)\n",
    "        plt.plot(l[:, 0], l[:, 1], color=color, linewidth=LINE_WIDTH)\n",
    "\n",
    "plt.xlabel(\"$q$\", fontsize=14)\n",
    "plt.ylabel(\"$p$\", rotation=0, fontsize=14)\n",
    "plt.title(\"Hamiltonian NN\", pad=10)\n",
    "plt.tight_layout() ; plt.show()"
   ]
  }
 ],
 "metadata": {
  "kernelspec": {
   "display_name": "Python 3",
   "language": "python",
   "name": "python3"
  },
  "language_info": {
   "codemirror_mode": {
    "name": "ipython",
    "version": 3
   },
   "file_extension": ".py",
   "mimetype": "text/x-python",
   "name": "python",
   "nbconvert_exporter": "python",
   "pygments_lexer": "ipython3",
   "version": "3.11.4"
  }
 },
 "nbformat": 4,
 "nbformat_minor": 2
}
